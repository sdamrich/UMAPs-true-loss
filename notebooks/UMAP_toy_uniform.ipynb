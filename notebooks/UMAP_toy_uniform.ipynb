{
 "cells": [
  {
   "cell_type": "markdown",
   "source": [
    "# Experiment on uniform toy data from square"
   ],
   "metadata": {
    "collapsed": false,
    "pycharm": {
     "name": "#%% md\n"
    }
   }
  },
  {
   "cell_type": "code",
   "execution_count": 1,
   "metadata": {
    "collapsed": true
   },
   "outputs": [],
   "source": [
    "%load_ext autoreload\n",
    "%autoreload 2\n",
    "import numpy as np\n",
    "import umap\n",
    "import matplotlib.pyplot as plt\n",
    "from scipy.sparse import coo_matrix\n",
    "from vis_utils.utils import compute_low_dim_psims\n",
    "import os\n",
    "import pickle"
   ]
  },
  {
   "cell_type": "code",
   "execution_count": 2,
   "outputs": [],
   "source": [
    "fig_path = \"../figures\"\n",
    "data_path = \"../data/toy_uniform\""
   ],
   "metadata": {
    "collapsed": false,
    "pycharm": {
     "name": "#%%\n"
    }
   }
  },
  {
   "cell_type": "code",
   "execution_count": 3,
   "outputs": [],
   "source": [
    "seed = 0\n",
    "n = 1000\n",
    "l = 1\n",
    "alpha=0.5\n"
   ],
   "metadata": {
    "collapsed": false,
    "pycharm": {
     "name": "#%%\n"
    }
   }
  },
  {
   "cell_type": "code",
   "execution_count": 4,
   "outputs": [
    {
     "data": {
      "text/plain": "<Figure size 432x288 with 1 Axes>",
      "image/png": "[encoded data removed]"
     },
     "metadata": {
      "needs_background": "light"
     },
     "output_type": "display_data"
    }
   ],
   "source": [
    "try:\n",
    "    data = np.load(os.path.join(data_path, f\"uniform_{n}_{l}_original_seed_{seed}.npy\"))\n",
    "except FileNotFoundError:\n",
    "    np.random.seed(seed)\n",
    "    data = np.random.uniform(0, l, size=(n, 2))\n",
    "    np.save(os.path.join(data_path,\n",
    "                         f\"uniform_{n}_{l}_original_seed_{seed}.npy\"),\n",
    "            data)\n",
    "\n",
    "fig_data = plt.figure()\n",
    "plt.scatter(*data.T, s=1, alpha = 0.5)\n",
    "plt.gca().set_aspect(\"equal\")\n",
    "plt.axis('off')\n",
    "fig_data.savefig(os.path.join(fig_path, f\"toy_uniform_{n}_{l}_original_seed_{seed}.png\"),\n",
    "            bbox_inches = 'tight',\n",
    "            pad_inches = 0,dpi=300)"
   ],
   "metadata": {
    "collapsed": false,
    "pycharm": {
     "name": "#%%\n"
    }
   }
  },
  {
   "cell_type": "code",
   "execution_count": 5,
   "outputs": [],
   "source": [
    "# get dense input graph\n",
    "min_dist = 0.1\n",
    "spread = 1.0\n",
    "a, b= umap.umap_.find_ab_params(spread=spread, min_dist=min_dist)\n",
    "low_sim = compute_low_dim_psims(data, a, b)\n",
    "low_sim_sparse = coo_matrix(low_sim)\n"
   ],
   "metadata": {
    "collapsed": false,
    "pycharm": {
     "name": "#%%\n"
    }
   }
  },
  {
   "cell_type": "code",
   "execution_count": 6,
   "outputs": [],
   "source": [
    "# Initialize UMAP at the input data\n",
    "try:\n",
    "    with open(os.path.join(data_path, f\"uniform_{n}_{l}_umapperns_init_seed_{seed}.pkl\"), \"rb\") as file:\n",
    "        umapperns_init = pickle.load(file)\n",
    "        embd_init = umapperns_init.embedding_\n",
    "except FileNotFoundError:\n",
    "    umapperns_init = umap.UMAP(init=data,\n",
    "                                 random_state=seed)\n",
    "    embd_init = umapperns_init.fit_transform(data)\n",
    "    with open(os.path.join(data_path, f\"uniform_{n}_{l}_umapperns_init_seed_{seed}.pkl\"), \"wb\") as file:\n",
    "        pickle.dump(umapperns_init, file, pickle.HIGHEST_PROTOCOL)"
   ],
   "metadata": {
    "collapsed": false,
    "pycharm": {
     "name": "#%%\n"
    }
   }
  },
  {
   "cell_type": "code",
   "execution_count": 7,
   "outputs": [
    {
     "data": {
      "text/plain": "<Figure size 432x288 with 1 Axes>",
      "image/png": "[encoded data removed]"
     },
     "metadata": {
      "needs_background": "light"
     },
     "output_type": "display_data"
    }
   ],
   "source": [
    "plt.scatter(*embd_init.T, s=1, alpha = 0.5)\n",
    "plt.gca().set_aspect(\"equal\")\n",
    "plt.axis('off')\n",
    "plt.savefig(os.path.join(fig_path, f\"toy_uniform_{n}_{l}_init_seed_{seed}.png\"),\n",
    "            bbox_inches = 'tight',\n",
    "            pad_inches = 0,dpi=300)\n"
   ],
   "metadata": {
    "collapsed": false,
    "pycharm": {
     "name": "#%%\n"
    }
   }
  },
  {
   "cell_type": "code",
   "execution_count": 8,
   "outputs": [],
   "source": [
    "# Initialize at the input data and optimize for 10000 epochs\n",
    "try:\n",
    "    with open(os.path.join(data_path, f\"uniform_{n}_{l}_umapperns_init_10000_seed_{seed}.pkl\"), \"rb\") as file:\n",
    "        umapperns_init_10000 = pickle.load(file)\n",
    "        embd_init_10000 = umapperns_init_10000.embedding_\n",
    "except FileNotFoundError:\n",
    "    umapperns_init_10000 = umap.UMAP(init=data,\n",
    "                                       n_epochs=10000,\n",
    "                                       random_state=seed,\n",
    "                                       verbose=True)\n",
    "    embd_init_10000 = umapperns_init_10000.fit_transform(data)\n",
    "    with open(os.path.join(data_path, f\"uniform_{n}_{l}_umapperns_init_10000_seed_{seed}.pkl\"), \"wb\") as file:\n",
    "        pickle.dump(umapperns_init_10000, file, pickle.HIGHEST_PROTOCOL)"
   ],
   "metadata": {
    "collapsed": false,
    "pycharm": {
     "name": "#%%\n"
    }
   }
  },
  {
   "cell_type": "code",
   "execution_count": null,
   "outputs": [],
   "source": [
    "plt.scatter(*embd_init_10000.T, s=1, alpha = 0.5)\n",
    "plt.gca().set_aspect(\"equal\")\n",
    "plt.axis('off')\n",
    "plt.savefig(os.path.join(fig_path, f\"toy_uniform_{n}_{l}_init_10000_seed_{seed}.png\"),\n",
    "            bbox_inches = 'tight',\n",
    "            pad_inches = 0,dpi=300)\n"
   ],
   "metadata": {
    "collapsed": false,
    "pycharm": {
     "name": "#%%\n"
    }
   }
  },
  {
   "cell_type": "code",
   "execution_count": 9,
   "outputs": [],
   "source": [
    "# Initialize at the input data and use dense input similarities\n",
    "try:\n",
    "    with open(os.path.join(data_path, f\"uniform_{n}_{l}_umapperns_init_graph_seed_{seed}.pkl\"), \"rb\") as file:\n",
    "        umapperns_init_graph = pickle.load(file)\n",
    "        embd_init_graph = umapperns_init_graph.embedding_\n",
    "except FileNotFoundError:\n",
    "    umapperns_init_graph = umap.UMAP(init=data,\n",
    "                                       graph=low_sim_sparse,\n",
    "                                       random_state=seed,\n",
    "                                       verbose=True\n",
    "                                       )\n",
    "    embd_init_graph = umapperns_init_graph.fit_transform(data)\n",
    "    with open(os.path.join(data_path, f\"uniform_{n}_{l}_umapperns_init_graph_seed_{seed}.pkl\"), \"wb\") as file:\n",
    "        pickle.dump(umapperns_init_graph, file, pickle.HIGHEST_PROTOCOL)\n",
    "\n"
   ],
   "metadata": {
    "collapsed": false,
    "pycharm": {
     "name": "#%%\n"
    }
   }
  },
  {
   "cell_type": "code",
   "execution_count": null,
   "outputs": [],
   "source": [
    "plt.scatter(*embd_init_graph.T, s=1, alpha = 0.5)\n",
    "plt.gca().set_aspect(\"equal\")\n",
    "plt.axis('off')\n",
    "plt.savefig(os.path.join(fig_path, f\"toy_uniform_{n}_{l}_graph_seed_{seed}.png\"),\n",
    "            bbox_inches = 'tight',\n",
    "            pad_inches = 0,dpi=300)"
   ],
   "metadata": {
    "collapsed": false,
    "pycharm": {
     "name": "#%%\n"
    }
   }
  },
  {
   "cell_type": "code",
   "execution_count": 10,
   "outputs": [],
   "source": [
    "# Initialize at the input data, use dense inpute similarities and optimize for 10000 epochs\n",
    "try:\n",
    "    with open(os.path.join(data_path, f\"uniform_{n}_{l}_umapperns_init_graph_10000_seed_{seed}.pkl\"), \"rb\") as file:\n",
    "        umapperns_init_graph_10000 = pickle.load(file)\n",
    "        embd_init_graph_10000 = umapperns_init_graph_10000.embedding_\n",
    "except FileNotFoundError:\n",
    "    umapperns_init_graph_10000 = umap.UMAP(init=data,\n",
    "                                       graph=low_sim_sparse,\n",
    "                                       n_epochs=10000,\n",
    "                                       push_tail=False,\n",
    "                                       random_state=seed,\n",
    "                                       verbose=True\n",
    "                                       )\n",
    "    embd_init_graph_10000 = umapperns_init_graph_10000.fit_transform(data)\n",
    "    with open(os.path.join(data_path, f\"uniform_{n}_{l}_umapperns_init_graph_10000_seed_{seed}.pkl\"), \"wb\") as file:\n",
    "        pickle.dump(umapperns_init_graph_10000, file, pickle.HIGHEST_PROTOCOL)\n"
   ],
   "metadata": {
    "collapsed": false,
    "pycharm": {
     "name": "#%%\n"
    }
   }
  },
  {
   "cell_type": "code",
   "execution_count": null,
   "outputs": [],
   "source": [
    "plt.scatter(*embd_init_graph_10000.T, s=1, alpha = 0.5)\n",
    "plt.gca().set_aspect(\"equal\")\n",
    "plt.axis('off')\n",
    "plt.savefig(os.path.join(fig_path, f\"toy_uniform_{n}_{l}_init_graph_10000_seed_{seed}.png\"),\n",
    "            bbox_inches = 'tight',\n",
    "            pad_inches = 0,dpi=300)"
   ],
   "metadata": {
    "collapsed": false,
    "pycharm": {
     "name": "#%%\n"
    }
   }
  },
  {
   "cell_type": "markdown",
   "source": [
    "## Push tail of negative sample"
   ],
   "metadata": {
    "collapsed": false,
    "pycharm": {
     "name": "#%% md\n"
    }
   }
  },
  {
   "cell_type": "code",
   "execution_count": 11,
   "outputs": [],
   "source": [
    "# Initialize UMAP at the input data, optimize for 10000 epochs and push tail of neg sample\n",
    "try:\n",
    "    with open(os.path.join(data_path, f\"uniform_{n}_{l}_umapperns_init_10000_push_tail_seed_{seed}.pkl\"), \"rb\") as file:\n",
    "        umapperns_init_10000_push_tail = pickle.load(file)\n",
    "        embd_init_10000_push_tail = umapperns_init_10000_push_tail.embedding_\n",
    "except FileNotFoundError:\n",
    "    umapperns_init_10000_push_tail = umap.UMAP(init=data,\n",
    "                                                 n_epochs=10000,\n",
    "                                                 push_tail=True,\n",
    "                                                 random_state=seed,\n",
    "                                                 verbose=True\n",
    "                                                 )\n",
    "    embd_init_10000_push_tail = umapperns_init_10000_push_tail.fit_transform(data)\n",
    "    with open(os.path.join(data_path, f\"uniform_{n}_{l}_umapperns_init_10000_push_tail_seed_{seed}.pkl\"), \"wb\") as file:\n",
    "        pickle.dump(umapperns_init_10000_push_tail, file, pickle.HIGHEST_PROTOCOL)\n"
   ],
   "metadata": {
    "collapsed": false,
    "pycharm": {
     "name": "#%%\n"
    }
   }
  },
  {
   "cell_type": "code",
   "execution_count": null,
   "outputs": [],
   "source": [
    "plt.scatter(*embd_init_10000_push_tail.T, s=1, alpha = 0.5)\n",
    "plt.gca().set_aspect(\"equal\")\n",
    "plt.axis('off')\n",
    "plt.savefig(os.path.join(fig_path, f\"toy_uniform_{n}_{l}_init_10000_push_tail_seed_{seed}.png\"),\n",
    "            bbox_inches = 'tight',\n",
    "            pad_inches = 0,dpi=300)"
   ],
   "metadata": {
    "collapsed": false,
    "pycharm": {
     "name": "#%%\n"
    }
   }
  },
  {
   "cell_type": "code",
   "execution_count": 12,
   "outputs": [],
   "source": [
    "# Initialize UMAP at the input data, use dense input similarities, optimize for 10000 epochs and push tail of neg sample\n",
    "try:\n",
    "    with open(os.path.join(data_path, f\"uniform_{n}_{l}_umapperns_init_graph_10000_push_tail_seed_{seed}.pkl\"), \"rb\") as file:\n",
    "        umapperns_init_graph_10000_push_tail = pickle.load(file)\n",
    "        embd_init_graph_10000_push_tail = umapperns_init_graph_10000_push_tail.embedding_\n",
    "except FileNotFoundError:\n",
    "    umapperns_init_graph_10000_push_tail = umap.UMAP(init=data,\n",
    "                                                       graph=low_sim_sparse,\n",
    "                                                       n_epochs=10000,\n",
    "                                                       push_tail=True,\n",
    "                                                       random_state=seed,\n",
    "                                                       verbose=True\n",
    "                                                       )\n",
    "    embd_init_graph_10000_push_tail = umapperns_init_graph_10000_push_tail.fit_transform(data)\n",
    "    with open(os.path.join(data_path, f\"uniform_{n}_{l}_umapperns_init_graph_10000_push_tail_seed_{seed}.pkl\"), \"wb\") as file:\n",
    "        pickle.dump(umapperns_init_graph_10000_push_tail, file, pickle.HIGHEST_PROTOCOL)"
   ],
   "metadata": {
    "collapsed": false,
    "pycharm": {
     "name": "#%%\n"
    }
   }
  },
  {
   "cell_type": "code",
   "execution_count": null,
   "outputs": [],
   "source": [
    "plt.scatter(*embd_init_graph_10000_push_tail.T, s=1, alpha = 0.5)\n",
    "plt.gca().set_aspect(\"equal\")\n",
    "plt.axis('off')\n",
    "plt.savefig(os.path.join(fig_path, f\"toy_uniform_{n}_{l}_init_graph_10000_push_tail_seed_{seed}.png\"),\n",
    "            bbox_inches = 'tight',\n",
    "            pad_inches = 0,dpi=300)\n"
   ],
   "metadata": {
    "collapsed": false,
    "pycharm": {
     "name": "#%%\n"
    }
   }
  },
  {
   "cell_type": "code",
   "execution_count": null,
   "outputs": [],
   "source": [],
   "metadata": {
    "collapsed": false,
    "pycharm": {
     "name": "#%%\n"
    }
   }
  }
 ],
 "metadata": {
  "kernelspec": {
   "name": "conda-env-umap-negs-py",
   "language": "python",
   "display_name": "Python [conda env:umap-negs]"
  },
  "language_info": {
   "codemirror_mode": {
    "name": "ipython",
    "version": 2
   },
   "file_extension": ".py",
   "mimetype": "text/x-python",
   "name": "python",
   "nbconvert_exporter": "python",
   "pygments_lexer": "ipython2",
   "version": "2.7.6"
  }
 },
 "nbformat": 4,
 "nbformat_minor": 0
}