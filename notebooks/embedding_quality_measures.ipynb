{
 "cells": [
  {
   "cell_type": "code",
   "execution_count": 28,
   "metadata": {
    "collapsed": true
   },
   "outputs": [
    {
     "name": "stdout",
     "output_type": "stream",
     "text": [
      "The autoreload extension is already loaded. To reload it, use:\n",
      "  %reload_ext autoreload\n",
      "env: CUDA_VISIBLE_DEVICES=2\n"
     ]
    }
   ],
   "source": [
    "%load_ext autoreload\n",
    "%autoreload 2\n",
    "%env CUDA_VISIBLE_DEVICES=2\n",
    "import numpy as np\n",
    "import pandas as pd\n",
    "import os\n",
    "from sklearn.decomposition import PCA\n",
    "import matplotlib.pyplot as plt\n",
    "import umap\n",
    "from firelight.visualizers.colorization import get_distinct_colors\n",
    "from matplotlib.colors import ListedColormap\n",
    "import pickle\n",
    "from vis_utils.utils import acc_kNN, corr_pdist_subsample, \\\n",
    "    reproducing_loss_keops, expected_loss_keops, filter_graph, KL_divergence, \\\n",
    "    low_dim_sim_keops_dist, compute_low_dim_psim_keops_embd\n",
    "import torch\n",
    "import scipy.special"
   ]
  },
  {
   "cell_type": "code",
   "execution_count": 3,
   "outputs": [],
   "source": [
    "data_path_c_elegans = \"../data/packer_c-elegans\"\n",
    "fig_path = \"../figures\"\n",
    "seed = 0\n",
    "repeats = 7\n",
    "special_cell_type = \"Seam_cell\""
   ],
   "metadata": {
    "collapsed": false,
    "pycharm": {
     "name": "#%%\n"
    }
   }
  },
  {
   "cell_type": "code",
   "execution_count": 4,
   "outputs": [
    {
     "data": {
      "text/plain": "(86024, 100)"
     },
     "execution_count": 4,
     "metadata": {},
     "output_type": "execute_result"
    }
   ],
   "source": [
    "# load the data\n",
    "pca100 = pd.read_csv(os.path.join(data_path_c_elegans,\n",
    "                              \"c-elegans_qc_final.txt\"),\n",
    "                     sep='\\t',\n",
    "                     header=None)\n",
    "pca100.shape"
   ],
   "metadata": {
    "collapsed": false,
    "pycharm": {
     "name": "#%%\n"
    }
   }
  },
  {
   "cell_type": "code",
   "execution_count": 5,
   "outputs": [],
   "source": [
    "# read meta data, obtain colors and ordering of cells that puts special_cell_type to the front and unlabelled cells to\n",
    "# the back\n",
    "meta = pd.read_csv(os.path.join(data_path_c_elegans,\n",
    "                              \"c-elegans_qc_final_metadata.txt\"),\n",
    "                   sep=',',\n",
    "                   header=0)\n",
    "\n",
    "cell_types = meta[\"cell.type\"].to_numpy().astype(str)\n",
    "\n",
    "labels = np.zeros(len(cell_types)).astype(int)\n",
    "name_to_label = {}\n",
    "for i, phase in enumerate(np.unique(cell_types)):\n",
    "    name_to_label[phase] = i\n",
    "    labels[cell_types==phase] = i\n",
    "\n",
    "special_cell_label = name_to_label[special_cell_type]\n",
    "unnamed_label = name_to_label[\"nan\"]\n",
    "\n",
    "np.random.seed(seed)\n",
    "colors = get_distinct_colors(len(name_to_label))\n",
    "np.random.shuffle(colors)\n",
    "colors[special_cell_label] = [0,0,0]\n",
    "colors[unnamed_label] = [0.5, 0.5, 0.5]\n",
    "cmap = ListedColormap(colors)\n",
    "\n",
    "special_order1 = np.argsort(labels == special_cell_label, kind=\"stable\") # put idx of special label to the back\n",
    "special_order2 = np.argsort(labels[special_order1] != unnamed_label, kind=\"stable\") # put idx of unnamed label to the front\n",
    "special_order = special_order1[special_order2]\n",
    "special_order_no_nan = special_order[(labels==unnamed_label).sum():]"
   ],
   "metadata": {
    "collapsed": false,
    "pycharm": {
     "name": "#%%\n"
    }
   }
  },
  {
   "cell_type": "markdown",
   "source": [
    "## PCA"
   ],
   "metadata": {
    "collapsed": false
   }
  },
  {
   "cell_type": "code",
   "execution_count": 6,
   "outputs": [],
   "source": [
    "# load / compute and save 2D PCA\n",
    "try:\n",
    "    pca2 = np.load(os.path.join(data_path_c_elegans, \"PCA2D.np\"))\n",
    "except FileNotFoundError:\n",
    "    pca_projector = PCA(n_components = 2)\n",
    "    pca2 = pca_projector.fit_transform(np.array(pca100))\n",
    "    np.save(os.path.join(data_path_c_elegans, \"PCA2D.npy\"), pca2)"
   ],
   "metadata": {
    "collapsed": false,
    "pycharm": {
     "name": "#%%\n"
    }
   }
  },
  {
   "cell_type": "markdown",
   "source": [
    "## UMAP\n",
    "We use the hyperparameter settings of Narayan et al.'s \"Assessing single-cell transcriptomic variability through density-preserving data\n",
    "visualization\" paper (https://doi.org/10.1038/s41587-020-00801-7) but with high-dimensional cosine metric\n"
   ],
   "metadata": {
    "collapsed": false
   }
  },
  {
   "cell_type": "markdown",
   "source": [
    "### Log losses after full epoch"
   ],
   "metadata": {
    "collapsed": false
   }
  },
  {
   "cell_type": "code",
   "execution_count": 7,
   "outputs": [
    {
     "name": "stdout",
     "output_type": "stream",
     "text": [
      "Tue Oct 19 10:11:59 2021 Building and compiling search function\n",
      "done with run 0\n",
      "Tue Oct 19 10:12:04 2021 Building and compiling search function\n",
      "done with run 1\n",
      "Tue Oct 19 10:12:08 2021 Building and compiling search function\n",
      "done with run 2\n",
      "Tue Oct 19 10:12:10 2021 Building and compiling search function\n",
      "done with run 3\n",
      "Tue Oct 19 10:12:12 2021 Building and compiling search function\n",
      "done with run 4\n",
      "Tue Oct 19 10:12:14 2021 Building and compiling search function\n",
      "done with run 5\n",
      "Tue Oct 19 10:12:16 2021 Building and compiling search function\n",
      "done with run 6\n"
     ]
    }
   ],
   "source": [
    "# can take long, approx repeats * 30 min\n",
    "umappers_c_elegans_after = []\n",
    "for repeat in range(repeats):\n",
    "    try:\n",
    "        with open(os.path.join(data_path_c_elegans, f\"umapperns_after_seed_{repeat}.pkl\"), \"rb\") as file:\n",
    "            umapper = pickle.load((file))\n",
    "    except FileNotFoundError:\n",
    "        umapper= umap.UMAP(metric=\"cosine\",\n",
    "                             n_neighbors=30,\n",
    "                             n_epochs=750,\n",
    "                             log_losses=\"after\",\n",
    "                             log_samples=False,\n",
    "                             random_state=repeat,\n",
    "                             verbose=True)\n",
    "        _ = umapper.fit_transform(pca100)\n",
    "        with open(os.path.join(data_path_c_elegans, f\"umapperns_after_seed_{repeat}.pkl\"), \"wb\") as file:\n",
    "            pickle.dump(umapper, file, pickle.HIGHEST_PROTOCOL)\n",
    "    umappers_c_elegans_after.append(umapper)\n",
    "    print(f\"done with run {repeat}\")\n"
   ],
   "metadata": {
    "collapsed": false,
    "pycharm": {
     "name": "#%%\n"
    }
   }
  },
  {
   "cell_type": "code",
   "execution_count": 8,
   "outputs": [],
   "source": [
    "# inverted high dim similarities\n"
   ],
   "metadata": {
    "collapsed": false,
    "pycharm": {
     "name": "#%%\n"
    }
   }
  },
  {
   "cell_type": "code",
   "execution_count": 9,
   "outputs": [],
   "source": [
    "# get inverted similarities\n",
    "inv_graphs = []\n",
    "assert \"umappers_c_elegans_after\" in locals()\n",
    "for umapper in umappers_c_elegans_after:\n",
    "    inv_graph = umapper.graph_.copy()\n",
    "    inv_graph.data[inv_graph.data < inv_graph.data.max() / float(750)] = 0\n",
    "    inv_graph.eliminate_zeros()\n",
    "    inv_graph.data = inv_graph.data.min() / inv_graph.data\n",
    "    inv_graphs.append(inv_graph)"
   ],
   "metadata": {
    "collapsed": false,
    "pycharm": {
     "name": "#%%\n"
    }
   }
  },
  {
   "cell_type": "code",
   "execution_count": 10,
   "outputs": [
    {
     "name": "stdout",
     "output_type": "stream",
     "text": [
      "done with run 0\n",
      "done with run 1\n",
      "done with run 2\n",
      "done with run 3\n",
      "done with run 4\n",
      "done with run 5\n",
      "done with run 6\n"
     ]
    }
   ],
   "source": [
    "umappers_c_elegans_inv_after = []\n",
    "for i, repeat in enumerate(range(repeats)):\n",
    "    try:\n",
    "        with open(os.path.join(data_path_c_elegans, f\"umapperns_inv_seed_{repeat}.pkl\"), \"rb\") as file:\n",
    "            umapper = pickle.load((file))\n",
    "    except FileNotFoundError:\n",
    "        umapper= umap.UMAP(metric=\"cosine\",\n",
    "                             n_neighbors=30,\n",
    "                             n_epochs=750,\n",
    "                             graph=inv_graphs[i],\n",
    "                             log_samples=False,\n",
    "                             log_loses=\"after\",\n",
    "                             random_state=repeat,\n",
    "                             verbose=True)\n",
    "        _ = umapper.fit_transform(pca100)\n",
    "        with open(os.path.join(data_path_c_elegans, f\"umapperns_inv_seed_{repeat}.pkl\"), \"wb\") as file:\n",
    "            pickle.dump(umapper, file, pickle.HIGHEST_PROTOCOL)\n",
    "    umappers_c_elegans_inv_after.append(umapper)\n",
    "    print(f\"done with run {repeat}\")"
   ],
   "metadata": {
    "collapsed": false,
    "pycharm": {
     "name": "#%%\n"
    }
   }
  },
  {
   "cell_type": "code",
   "execution_count": 14,
   "outputs": [
    {
     "name": "stdout",
     "output_type": "stream",
     "text": [
      "Done with run 0\n",
      "Done with run 1\n",
      "Done with run 2\n",
      "Done with run 3\n",
      "Done with run 4\n",
      "Done with run 5\n",
      "Done with run 6\n",
      "Pearson UMAP mean:  0.5620050589878101\n",
      "Pearson UMAP std:   0.007777905551735342\n",
      "\n",
      "\n",
      "Spearman UMAP mean: 0.55127261231681\n",
      "Spearman UMAP std:  0.010513767720885974\n",
      "\n",
      "\n",
      "\n",
      "Pearson UMAP inv mean:  0.6279333786674318\n",
      "Pearson UMAP inv std:   0.00507284434829625\n",
      "\n",
      "\n",
      "Spearman UMAP inv mean: 0.6066066148760314\n",
      "Spearman UMAP inv std:  0.005514853218002877\n",
      "\n",
      "\n",
      "\n",
      "Pearson PCA mean: 0.5770961794617044\n",
      "Pearson PCA std: 0.00287972201111643\n",
      "\n",
      "\n",
      "Spearman PCA mean: 0.6113548671086951\n",
      "Spearman PCA std:  0.0033829865064611804\n"
     ]
    }
   ],
   "source": [
    "#### Quality measures of the embedding\n",
    "\n",
    "\n",
    "\n",
    "# correlation measures\n",
    "sample_size = 10000\n",
    "\n",
    "pear_rs = []\n",
    "spear_rs = []\n",
    "pear_rs_inv = []\n",
    "spear_rs_inv = []\n",
    "pear_rs_pca = []\n",
    "spear_rs_pca = []\n",
    "for i in range(repeats):\n",
    "    pear_r, spear_r = corr_pdist_subsample(pca100.to_numpy(),\n",
    "                                           umappers_c_elegans_after[i].embedding_,\n",
    "                                           sample_size,\n",
    "                                           seed=i,\n",
    "                                           metric=\"cosine\")\n",
    "    pear_rs.append(pear_r)\n",
    "    spear_rs.append(spear_r)\n",
    "\n",
    "    pear_r_inv, spear_r_inv = corr_pdist_subsample(pca100.to_numpy(),\n",
    "                                                   umappers_c_elegans_inv_after[i].embedding_,\n",
    "                                                   sample_size,\n",
    "                                                   seed=i,\n",
    "                                                   metric=\"cosine\")\n",
    "    pear_rs_inv.append(pear_r_inv)\n",
    "    spear_rs_inv.append(spear_r_inv)\n",
    "\n",
    "    pear_r_pca, spear_r_pca = corr_pdist_subsample(pca100.to_numpy(),\n",
    "                                                   pca2,\n",
    "                                                   sample_size,\n",
    "                                                   seed=i,\n",
    "                                                   metric=\"cosine\")\n",
    "    pear_rs_pca.append(pear_r_pca)\n",
    "    spear_rs_pca.append(spear_r_pca)\n",
    "    print(f\"Done with run {i}\")\n",
    "\n",
    "pear_rs = np.stack(pear_rs)\n",
    "spear_rs = np.stack(spear_rs)\n",
    "\n",
    "pear_rs_inv = np.stack(pear_rs_inv)\n",
    "spear_rs_inv = np.stack(spear_rs_inv)\n",
    "\n",
    "pear_rs_pca = np.stack(pear_rs_pca)\n",
    "spear_rs_pca = np.stack(spear_rs_pca)\n",
    "\n",
    "\n",
    "print(f\"Pearson UMAP mean:  {pear_rs.mean()}\")\n",
    "print(f\"Pearson UMAP std:   {pear_rs.std()}\")\n",
    "print(\"\\n\")\n",
    "print(f\"Spearman UMAP mean: {spear_rs.mean()}\")\n",
    "print(f\"Spearman UMAP std:  {spear_rs.std()}\")\n",
    "print(\"\\n\\n\")\n",
    "\n",
    "print(f\"Pearson UMAP inv mean:  {pear_rs_inv.mean()}\")\n",
    "print(f\"Pearson UMAP inv std:   {pear_rs_inv.std()}\")\n",
    "print(\"\\n\")\n",
    "print(f\"Spearman UMAP inv mean: {spear_rs_inv.mean()}\")\n",
    "print(f\"Spearman UMAP inv std:  {spear_rs_inv.std()}\")\n",
    "print(\"\\n\\n\")\n",
    "\n",
    "print(f\"Pearson PCA mean: {pear_rs_pca.mean()}\")\n",
    "print(f\"Pearson PCA std: {pear_rs_pca.std()}\")\n",
    "print(\"\\n\")\n",
    "print(f\"Spearman PCA mean: {spear_rs_pca.mean()}\")\n",
    "print(f\"Spearman PCA std:  {spear_rs_pca.std()}\")\n"
   ],
   "metadata": {
    "collapsed": false,
    "pycharm": {
     "name": "#%%\n"
    }
   }
  },
  {
   "cell_type": "code",
   "execution_count": 15,
   "outputs": [],
   "source": [
    "# kNN based measure\n",
    "acc10 = []\n",
    "acc10_inv = []\n",
    "acc10_pca = []\n",
    "acc30 = []\n",
    "acc30_inv = []\n",
    "acc30_pca = []\n",
    "for i in range(repeats):\n",
    "    # k=10\n",
    "    acc10.append(acc_kNN(pca100.to_numpy(),\n",
    "                         umappers_c_elegans_after[i].embedding_,\n",
    "                         k=10,\n",
    "                         metric=\"cosine\"))\n",
    "    acc10_inv.append(acc_kNN(pca100.to_numpy(),\n",
    "                             umappers_c_elegans_inv_after[i].embedding_,\n",
    "                             k=10,\n",
    "                             metric=\"cosine\"))\n",
    "    acc10_pca.append(acc_kNN(pca100.to_numpy(),\n",
    "                             pca2, k=10,\n",
    "                             metric=\"cosine\"))\n",
    "    # k=30\n",
    "    acc30.append(acc_kNN(pca100.to_numpy(),\n",
    "                         umappers_c_elegans_after[i].embedding_,\n",
    "                         k=30,\n",
    "                         metric=\"cosine\"))\n",
    "    acc30_inv.append(acc_kNN(pca100.to_numpy(),\n",
    "                             umappers_c_elegans_inv_after[i].embedding_,\n",
    "                             k=30,\n",
    "                             metric=\"cosine\"))\n",
    "    acc30_pca.append(acc_kNN(pca100.to_numpy(),\n",
    "                             pca2, k=30,\n",
    "                             metric=\"cosine\"))\n",
    "\n",
    "acc10 = np.stack(acc10)\n",
    "acc10_inv = np.stack(acc10_inv)\n",
    "acc10_pca = np.stack(acc10_pca)\n",
    "\n",
    "acc30 = np.stack(acc30)\n",
    "acc30_inv = np.stack(acc30_inv)\n",
    "acc30_pca = np.stack(acc30_pca)"
   ],
   "metadata": {
    "collapsed": false,
    "pycharm": {
     "name": "#%%\n"
    }
   }
  },
  {
   "cell_type": "code",
   "execution_count": 16,
   "outputs": [
    {
     "name": "stdout",
     "output_type": "stream",
     "text": [
      "10-NN accuracy UMAP mean:     0.1562079021136958\n",
      "10-NN accuracy UMAP std:      0.0009206317229737199\n",
      "\n",
      "10-NN accuracy UMAP inv mean: 0.07943597135683066\n",
      "10-NN accuracy UMAP inv std:  0.0005319517736495356\n",
      "\n",
      "10-NN accuracy PCA mean:      0.005883241885985306\n",
      "10-NN accuracy PCA std:       8.673617379884035e-19\n",
      "\n",
      "30-NN accuracy UMAP mean:     0.25606475269360046\n",
      "30-NN accuracy UMAP std:      0.0013758122006941637\n",
      "\n",
      "30-NN accuracy UMAP inv mean: 0.18454700349404152\n",
      "30-NN accuracy UMAP inv std:  0.0011973435631427232\n",
      "\n",
      "30-NN accuracy PCA mean:      0.013973619765026814\n",
      "30-NN accuracy PCA std:       0.0\n",
      "\n"
     ]
    }
   ],
   "source": [
    "print(f\"10-NN accuracy UMAP mean:     {acc10.mean()}\")\n",
    "print(f\"10-NN accuracy UMAP std:      {acc10.std()}\\n\")\n",
    "print(f\"10-NN accuracy UMAP inv mean: {acc10_inv.mean()}\")\n",
    "print(f\"10-NN accuracy UMAP inv std:  {acc10_inv.std()}\\n\")\n",
    "print(f\"10-NN accuracy PCA mean:      {acc10_pca.mean()}\")\n",
    "print(f\"10-NN accuracy PCA std:       {acc10_pca.std()}\\n\")\n",
    "\n",
    "print(f\"30-NN accuracy UMAP mean:     {acc30.mean()}\")\n",
    "print(f\"30-NN accuracy UMAP std:      {acc30.std()}\\n\")\n",
    "print(f\"30-NN accuracy UMAP inv mean: {acc30_inv.mean()}\")\n",
    "print(f\"30-NN accuracy UMAP inv std:  {acc30_inv.std()}\\n\")\n",
    "print(f\"30-NN accuracy PCA mean:      {acc30_pca.mean()}\")\n",
    "print(f\"30-NN accuracy PCA std:       {acc30_pca.std()}\\n\")"
   ],
   "metadata": {
    "collapsed": false,
    "pycharm": {
     "name": "#%%\n"
    }
   }
  },
  {
   "cell_type": "code",
   "execution_count": 17,
   "outputs": [],
   "source": [
    "# various loss values:\n",
    "\n",
    "min_dist = 0.1\n",
    "spread = 1.0\n",
    "a, b= umap.umap_.find_ab_params(spread=spread, min_dist=min_dist)"
   ],
   "metadata": {
    "collapsed": false,
    "pycharm": {
     "name": "#%%\n"
    }
   }
  },
  {
   "cell_type": "code",
   "execution_count": 18,
   "outputs": [],
   "source": [
    "def get_losses(embd, graph, a,b, negative_sample_rate=5):\n",
    "    loss_a_reprod, \\\n",
    "    loss_r_reprod = reproducing_loss_keops(high_sim=graph.tocoo(),\n",
    "                                                 embedding=embd,\n",
    "                                                 a=a,\n",
    "                                                 b=b)\n",
    "    loss_total_reprod = loss_a_reprod + loss_r_reprod\n",
    "\n",
    "    loss_a_exp, \\\n",
    "    loss_r_exp = expected_loss_keops(high_sim=graph.tocoo(),\n",
    "                                           embedding=embd,\n",
    "                                           a=a,\n",
    "                                           b=b,\n",
    "                                           negative_sample_rate=negative_sample_rate,\n",
    "                                           push_tail=True)\n",
    "    loss_total_exp = loss_a_exp + loss_r_exp\n",
    "\n",
    "\n",
    "    KL_div_norm_pos = KL_divergence(high_sim=graph.tocoo(),\n",
    "                           a=a,\n",
    "                           b=b,\n",
    "                           embedding=embd\n",
    "                           )\n",
    "\n",
    "    KL_div = KL_divergence(high_sim=graph.tocoo(),\n",
    "                           a=a,\n",
    "                           b=b,\n",
    "                           embedding=embd,\n",
    "                           norm_over_pos=False\n",
    "                           )\n",
    "\n",
    "    return loss_total_reprod, loss_total_exp, KL_div_norm_pos, KL_div\n",
    "\n"
   ],
   "metadata": {
    "collapsed": false,
    "pycharm": {
     "name": "#%%\n"
    }
   }
  },
  {
   "cell_type": "code",
   "execution_count": 22,
   "outputs": [],
   "source": [
    "loss_reprod, loss_exp, KL_div_pos, KL_div, \\\n",
    "loss_reprod_inv, loss_exp_inv, KL_div_pos_inv, KL_div_inv, \\\n",
    "loss_reprod_pca, loss_exp_pca, KL_div_pos_pca, KL_div_pca = [], [], [], [], [], [], [], [], [], [], [], []\n",
    "\n",
    "for i in range(repeats):\n",
    "    graph = filter_graph(umappers_c_elegans_after[i].graph_,\n",
    "                         umappers_c_elegans_after[i].n_epochs)\n",
    "\n",
    "    l_reprod,\\\n",
    "    l_exp,\\\n",
    "    kl_div_pos,\\\n",
    "    kl_div = get_losses(umappers_c_elegans_after[i].embedding_,\n",
    "                        graph,\n",
    "                        a,\n",
    "                        b)\n",
    "    loss_reprod.append(l_reprod)\n",
    "    loss_exp.append(l_exp)\n",
    "    KL_div_pos.append(kl_div_pos)\n",
    "    KL_div.append(kl_div)\n",
    "\n",
    "\n",
    "    l_reprod_inv, \\\n",
    "    l_exp_inv, \\\n",
    "    kl_div_pos_inv,\\\n",
    "    kl_div_inv = get_losses(umappers_c_elegans_inv_after[i].embedding_,\n",
    "                            graph,\n",
    "                            a,\n",
    "                            b)\n",
    "    loss_reprod_inv.append(l_reprod_inv)\n",
    "    loss_exp_inv.append(l_exp_inv)\n",
    "    KL_div_pos_inv.append(kl_div_pos_inv)\n",
    "    KL_div_inv.append(kl_div_inv)\n",
    "\n",
    "    l_reprod_pca,\\\n",
    "    l_exp_pca, \\\n",
    "    kl_div_pos_pca, \\\n",
    "    kl_div_pca = get_losses(pca2.astype(np.single),\n",
    "                            graph,\n",
    "                            a,\n",
    "                            b)\n",
    "    loss_reprod_pca.append(l_reprod_pca)\n",
    "    loss_exp_pca.append(l_exp_pca)\n",
    "    KL_div_pos_pca.append(kl_div_pos_pca)\n",
    "    KL_div_pca.append(kl_div_pca)\n",
    "\n",
    "loss_reprod = np.stack(loss_reprod)\n",
    "loss_exp = np.stack(loss_exp)\n",
    "KL_div_pos = np.stack(KL_div_pos)\n",
    "KL_div = np.stack(KL_div)\n",
    "\n",
    "loss_reprod_inv = np.stack(loss_reprod_inv)\n",
    "loss_exp_inv = np.stack(loss_exp_inv)\n",
    "KL_div_pos_inv = np.stack(KL_div_pos_inv)\n",
    "KL_div_inv = np.stack(KL_div_inv)\n",
    "\n",
    "loss_reprod_pca = np.stack(loss_reprod_pca)\n",
    "loss_exp_pca = np.stack(loss_exp_pca)\n",
    "KL_div_pos_pca = np.stack(KL_div_pos_pca)\n",
    "KL_div_pca = np.stack(KL_div_pca)\n"
   ],
   "metadata": {
    "collapsed": false,
    "pycharm": {
     "name": "#%%\n"
    }
   }
  },
  {
   "cell_type": "code",
   "execution_count": 47,
   "outputs": [
    {
     "name": "stdout",
     "output_type": "stream",
     "text": [
      "UMAP\n",
      "Original UMAP loss mean:   3.64E+08\n",
      "Original UMAP loss std:    1.62E+06\n",
      "\n",
      "True UMAP loss mean:       3.21E+05\n",
      "True UMAP loss std:        1.50E+03\n",
      "\n",
      "KL divergence pos mean:   0.5488904394897656\n",
      "KL divergence pos std:    0.0015397640600636783\n",
      "\n",
      "KL divergence mean:       4.920207187227171\n",
      "KL divergence std:        0.004043140910223455\n",
      "\n",
      "\n",
      "\n",
      "UMAP inv \n",
      "Original UMAP loss mean:   4.32E+08\n",
      "Original UMAP loss std:    3.12E+06\n",
      "\n",
      "True UMAP loss mean:       3.85E+05\n",
      "True UMAP loss std:        1.98E+03\n",
      "\n",
      "KL divergence pos mean:   0.5765721749717366\n",
      "KL divergence pos std:    0.0016865110484212856\n",
      "\n",
      "KL divergence mean:       5.129103837766089\n",
      "KL divergence std:        0.006548632030396337\n",
      "\n",
      "\n",
      "\n",
      "PCA\n",
      "Original UMAP loss mean:   5.37E+08\n",
      "Original UMAP loss std:    6.09E+01\n",
      "\n",
      "True UMAP loss mean:       1.24E+06\n",
      "True UMAP loss std:        3.35E+01\n",
      "\n",
      "KL divergence pos mean:   0.692656118561421\n",
      "KL divergence pos std:    3.864658684472962e-05\n",
      "\n",
      "KL divergence mean:       6.461372502290538\n",
      "KL divergence std:        4.6976003208722925e-05\n",
      "\n"
     ]
    }
   ],
   "source": [
    "print(\"UMAP\")\n",
    "print(f\"Original UMAP loss mean:  {loss_reprod.mean(): .2E}\")\n",
    "print(f\"Original UMAP loss std:   {loss_reprod.std(): .2E}\\n\")\n",
    "print(f\"True UMAP loss mean:      {loss_exp.mean(): .2E}\")\n",
    "print(f\"True UMAP loss std:       {loss_exp.std(): .2E}\\n\")\n",
    "print(f\"KL divergence pos mean:   {KL_div_pos.mean()}\")\n",
    "print(f\"KL divergence pos std:    {KL_div_pos.std()}\\n\")\n",
    "print(f\"KL divergence mean:       {KL_div.mean()}\")\n",
    "print(f\"KL divergence std:        {KL_div.std()}\\n\")\n",
    "print(\"\\n\")\n",
    "\n",
    "print(\"UMAP inv \")\n",
    "print(f\"Original UMAP loss mean:  {loss_reprod_inv.mean(): .2E}\")\n",
    "print(f\"Original UMAP loss std:   {loss_reprod_inv.std(): .2E}\\n\")\n",
    "print(f\"True UMAP loss mean:      {loss_exp_inv.mean(): .2E}\")\n",
    "print(f\"True UMAP loss std:       {loss_exp_inv.std(): .2E}\\n\")\n",
    "print(f\"KL divergence pos mean:   {KL_div_pos_inv.mean()}\")\n",
    "print(f\"KL divergence pos std:    {KL_div_pos_inv.std()}\\n\")\n",
    "print(f\"KL divergence mean:       {KL_div_inv.mean()}\")\n",
    "print(f\"KL divergence std:        {KL_div_inv.std()}\\n\")\n",
    "print(\"\\n\")\n",
    "\n",
    "print(\"PCA\")\n",
    "print(f\"Original UMAP loss mean:  {loss_reprod_pca.mean(): .2E}\")\n",
    "print(f\"Original UMAP loss std:   {loss_reprod_pca.std(): .2E}\\n\")\n",
    "print(f\"True UMAP loss mean:      {loss_exp_pca.mean(): .2E}\")\n",
    "print(f\"True UMAP loss std:       {loss_exp_pca.std(): .2E}\\n\")\n",
    "print(f\"KL divergence pos mean:   {KL_div_pos_pca.mean()}\")\n",
    "print(f\"KL divergence pos std:    {KL_div_pos_pca.std()}\\n\")\n",
    "print(f\"KL divergence mean:       {KL_div_pca.mean()}\")\n",
    "print(f\"KL divergence std:        {KL_div_pca.std()}\\n\")\n",
    "\n",
    "\n"
   ],
   "metadata": {
    "collapsed": false,
    "pycharm": {
     "name": "#%%\n"
    }
   }
  },
  {
   "cell_type": "code",
   "execution_count": 25,
   "outputs": [],
   "source": [
    "def get_low_sim_pos_edges(high_sim, embd, a, b):\n",
    "    heads = high_sim.row\n",
    "    tails = high_sim.col\n",
    "    sq_dist_pos_edges = ((embd[heads]-embd[tails])**2).sum(-1)\n",
    "    low_sim_pos_edges = low_dim_sim_keops_dist(sq_dist_pos_edges, a, b, squared=True)\n",
    "    return low_sim_pos_edges"
   ],
   "metadata": {
    "collapsed": false,
    "pycharm": {
     "name": "#%%\n"
    }
   }
  },
  {
   "cell_type": "code",
   "execution_count": 43,
   "outputs": [],
   "source": [
    "# sanity check KL pos and normal KL differ only be normalization of embedding sims\n",
    "for i in range(repeats):\n",
    "    graph = filter_graph(umappers_c_elegans_after[i].graph_,\n",
    "                         umappers_c_elegans_after[i].n_epochs)\n",
    "    # normalization by embedding sims that have positive input sim\n",
    "    Z_pos = get_low_sim_pos_edges(graph.tocoo(),\n",
    "                                  umappers_c_elegans_after[i].embedding_,\n",
    "                                  a,\n",
    "                                  b).sum()\n",
    "    # normalization by all pairs of embedding sims\n",
    "    Z = compute_low_dim_psim_keops_embd(umappers_c_elegans_after[i].embedding_,\n",
    "                                        a,\n",
    "                                        b).sum(1).cpu().numpy().sum()\n",
    "    assert np.abs((KL_div_pos[i] - np.log(Z_pos)\n",
    "                   - (KL_div[i] - np.log(Z)))) < 0.0006\n",
    "\n"
   ],
   "metadata": {
    "collapsed": false,
    "pycharm": {
     "name": "#%%\n"
    }
   }
  }
 ],
 "metadata": {
  "kernelspec": {
   "name": "conda-env-umap-negs-py",
   "language": "python",
   "display_name": "Python [conda env:umap-negs]"
  },
  "language_info": {
   "codemirror_mode": {
    "name": "ipython",
    "version": 2
   },
   "file_extension": ".py",
   "mimetype": "text/x-python",
   "name": "python",
   "nbconvert_exporter": "python",
   "pygments_lexer": "ipython2",
   "version": "2.7.6"
  }
 },
 "nbformat": 4,
 "nbformat_minor": 0
}