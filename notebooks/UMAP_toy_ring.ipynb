{
 "cells": [
  {
   "cell_type": "markdown",
   "metadata": {
    "collapsed": true,
    "pycharm": {
     "name": "#%% md\n"
    }
   },
   "source": [
    "# Experiments on toy ring data"
   ]
  },
  {
   "cell_type": "code",
   "execution_count": 1,
   "outputs": [
    {
     "name": "stdout",
     "output_type": "stream",
     "text": [
      "env: CUDA_VISIBLE_DEVICES=5\n"
     ]
    }
   ],
   "source": [
    "%env CUDA_VISIBLE_DEVICES=5\n",
    "%load_ext autoreload\n",
    "%autoreload 2\n",
    "import numpy as np\n",
    "import umap\n",
    "import matplotlib.pyplot as plt\n",
    "from scipy.sparse import coo_matrix\n",
    "from vis_utils.utils import compute_low_dim_psims, get_ring\n",
    "import os\n",
    "import pickle\n"
   ],
   "metadata": {
    "collapsed": false,
    "pycharm": {
     "name": "#%%\n"
    }
   }
  },
  {
   "cell_type": "code",
   "execution_count": 2,
   "outputs": [],
   "source": [
    "fig_path = \"../figures\"\n",
    "data_path = \"../data/toy_ring\"\n",
    "\n",
    "data_seed = 3\n",
    "umap_seed = 0\n",
    "\n",
    "radius = 4\n",
    "sig = 0.5\n",
    "sig_str = \"_\".join(str(sig).split(\".\"))\n",
    "n = 1000"
   ],
   "metadata": {
    "collapsed": false,
    "pycharm": {
     "name": "#%%\n"
    }
   }
  },
  {
   "cell_type": "code",
   "execution_count": 3,
   "outputs": [
    {
     "data": {
      "text/plain": "<Figure size 432x288 with 1 Axes>",
      "image/png": "[encoded data removed]"
     },
     "metadata": {
      "needs_background": "light"
     },
     "output_type": "display_data"
    }
   ],
   "source": [
    "try:\n",
    "    data = np.load(os.path.join(data_path, f\"toy_ring_{n}_{radius}_{sig_str}_original_seed_{data_seed}.npy\"))\n",
    "except FileNotFoundError:\n",
    "    np.random.seed(data_seed)\n",
    "    data = get_ring(n, radius, sig, noise=\"uniform\")\n",
    "    np.save(os.path.join(data_path,\n",
    "                         f\"toy_ring_{n}_{radius}_{sig_str}_original_seed_{data_seed}.npy\"),\n",
    "            data)\n",
    "\n",
    "fig_data = plt.figure()\n",
    "plt.scatter(*data.T, s=1, alpha = 0.5)\n",
    "plt.gca().set_aspect(\"equal\")\n",
    "plt.axis('off')\n",
    "fig_data.savefig(os.path.join(fig_path, f\"toy_ring_{n}_{radius}_{sig_str}_original_seed_{data_seed}.png\"),\n",
    "                 bbox_inches = 'tight',\n",
    "                 pad_inches = 0,dpi=300)"
   ],
   "metadata": {
    "collapsed": false,
    "pycharm": {
     "name": "#%%\n"
    }
   }
  },
  {
   "cell_type": "code",
   "source": [
    "# Initialize at the input data\n",
    "try:\n",
    "    with open(os.path.join(data_path, f\"toy_ring_{n}_{radius}_{sig_str}_t_seed_{data_seed}_{umap_seed}.pkl\"), \"rb\") as file:\n",
    "        umapperns_init = pickle.load(file)\n",
    "        embd_init = umapperns_init.embedding_\n",
    "except FileNotFoundError:\n",
    "    umapperns_init = umap.UMAP(init=data,\n",
    "                                 random_state=umap_seed)\n",
    "    embd_init = umapperns_init.fit_transform(data)\n",
    "    with open(os.path.join(data_path, f\"toy_ring_{n}_{radius}_{sig_str}_umapperns_init_seed_{data_seed}_{umap_seed}.pkl\"), \"wb\") as file:\n",
    "        pickle.dump(umapperns_init, file, pickle.HIGHEST_PROTOCOL)"
   ],
   "metadata": {
    "collapsed": false,
    "pycharm": {
     "name": "#%%\n"
    }
   },
   "execution_count": 4,
   "outputs": []
  },
  {
   "cell_type": "code",
   "execution_count": 5,
   "outputs": [
    {
     "data": {
      "text/plain": "<Figure size 432x288 with 1 Axes>",
      "image/png": "[encoded data removed]"
     },
     "metadata": {
      "needs_background": "light"
     },
     "output_type": "display_data"
    }
   ],
   "source": [
    "plt.scatter(*embd_init.T, s=1, alpha = 0.5)\n",
    "plt.gca().set_aspect(\"equal\")\n",
    "plt.axis('off')\n",
    "plt.savefig(os.path.join(fig_path, f\"toy_ring_{n}_{radius}_{sig_str}_init_seed_{data_seed}_{umap_seed}.png\"),\n",
    "            bbox_inches = 'tight',\n",
    "            pad_inches = 0,dpi=300)"
   ],
   "metadata": {
    "collapsed": false,
    "pycharm": {
     "name": "#%%\n"
    }
   }
  },
  {
   "cell_type": "code",
   "execution_count": 6,
   "outputs": [],
   "source": [
    "# Default UMAP hyperparameters\n",
    "try:\n",
    "    with open(os.path.join(data_path, f\"toy_ring_{n}_{radius}_{sig_str}_umapperns_default_seed_{data_seed}_{umap_seed}.pkl\"), \"rb\") as file:\n",
    "        umapperns_default = pickle.load(file)\n",
    "        embd_default = umapperns_default.embedding_\n",
    "except FileNotFoundError:\n",
    "    umapperns_default = umap.UMAP(\n",
    "        random_state=0)\n",
    "    embd_default = umapperns_default.fit_transform(data)\n",
    "    with open(os.path.join(data_path, f\"toy_ring_{n}_{radius}_{sig_str}_umapperns_default_seed_{data_seed}_{umap_seed}.pkl\"), \"wb\") as file:\n",
    "        pickle.dump(umapperns_default, file, pickle.HIGHEST_PROTOCOL)\n"
   ],
   "metadata": {
    "collapsed": false,
    "pycharm": {
     "name": "#%%\n"
    }
   }
  },
  {
   "cell_type": "code",
   "execution_count": 7,
   "outputs": [
    {
     "data": {
      "text/plain": "<Figure size 432x288 with 1 Axes>",
      "image/png": "[encoded data removed]"
     },
     "metadata": {
      "needs_background": "light"
     },
     "output_type": "display_data"
    }
   ],
   "source": [
    "plt.scatter(*embd_default.T, s=1, alpha=0.5)\n",
    "plt.gca().set_aspect(\"equal\")\n",
    "plt.axis('off')\n",
    "plt.savefig(os.path.join(fig_path, f\"toy_ring_{n}_{radius}_{sig_str}_default_seed_{data_seed}_{umap_seed}.png\"),\n",
    "            bbox_inches = 'tight',\n",
    "            pad_inches = 0,dpi=300)"
   ],
   "metadata": {
    "collapsed": false,
    "pycharm": {
     "name": "#%%\n"
    }
   }
  },
  {
   "cell_type": "code",
   "execution_count": 8,
   "outputs": [],
   "source": [
    "# Optimize for 10000 epochs\n",
    "try:\n",
    "    with open(os.path.join(data_path, f\"toy_ring_{n}_{radius}_{sig_str}_umapperns_10000_seed_{data_seed}_{umap_seed}.pkl\"), \"rb\") as file:\n",
    "        umapperns_10000 = pickle.load(file)\n",
    "        embd_10000= umapperns_10000.embedding_\n",
    "except FileNotFoundError:\n",
    "    umapperns_10000 = umap.UMAP(random_state=umap_seed,\n",
    "                                  n_epochs=10000,\n",
    "                                  verbose=True)\n",
    "    embd_10000 = umapperns_10000.fit_transform(data)\n",
    "    with open(os.path.join(data_path, f\"toy_ring_{n}_{radius}_{sig_str}_umapperns_10000_seed_{data_seed}_{umap_seed}.pkl\"), \"wb\") as file:\n",
    "        pickle.dump(umapperns_10000, file, pickle.HIGHEST_PROTOCOL)\n",
    "\n"
   ],
   "metadata": {
    "collapsed": false,
    "pycharm": {
     "name": "#%%\n"
    }
   }
  },
  {
   "cell_type": "code",
   "execution_count": null,
   "outputs": [],
   "source": [
    "plt.scatter(*embd_10000.T, s=1, alpha=0.5)\n",
    "plt.gca().set_aspect(\"equal\")\n",
    "plt.axis('off')\n",
    "plt.savefig(os.path.join(fig_path, f\"toy_ring_{n}_{radius}_{sig_str}_10000_seed_{data_seed}_{umap_seed}.png\"),\n",
    "            bbox_inches = 'tight',\n",
    "            pad_inches = 0,dpi=300)"
   ],
   "metadata": {
    "collapsed": false,
    "pycharm": {
     "name": "#%%\n"
    }
   }
  },
  {
   "cell_type": "code",
   "execution_count": 17,
   "outputs": [],
   "source": [
    "# Initialize at input data, optimize for 10000 epochs\n",
    "try:\n",
    "    with open(os.path.join(data_path, f\"toy_ring_{n}_{radius}_{sig_str}_umapperns_init_10000_seed_{data_seed}_{umap_seed}.pkl\"), \"rb\") as file:\n",
    "        umapperns_init_10000 = pickle.load(file)\n",
    "        embd_init_10000= umapperns_init_10000.embedding_\n",
    "except FileNotFoundError:\n",
    "    umapperns_init_10000 = umap.UMAP(random_state=umap_seed,\n",
    "                                       init=data,\n",
    "                                       n_epochs=10000,\n",
    "                                       verbose=True)\n",
    "    embd_init_10000 = umapperns_init_10000.fit_transform(data)\n",
    "    with open(os.path.join(data_path, f\"toy_ring_{n}_{radius}_{sig_str}_umapperns_init_10000_seed_{data_seed}_{umap_seed}.pkl\"), \"wb\") as file:\n",
    "        pickle.dump(umapperns_init_10000, file, pickle.HIGHEST_PROTOCOL)\n"
   ],
   "metadata": {
    "collapsed": false,
    "pycharm": {
     "name": "#%%\n"
    }
   }
  },
  {
   "cell_type": "code",
   "execution_count": null,
   "outputs": [],
   "source": [
    "plt.scatter(*embd_init_10000.T, s=1,alpha=0.5)\n",
    "plt.gca().set_aspect(\"equal\")\n",
    "plt.axis('off')\n",
    "plt.savefig(os.path.join(fig_path, f\"toy_ring_{n}_{radius}_{sig_str}_init_10000_seed_{data_seed}_{umap_seed}.png\"),\n",
    "            bbox_inches = 'tight',\n",
    "            pad_inches = 0,dpi=300)"
   ],
   "metadata": {
    "collapsed": false,
    "pycharm": {
     "name": "#%%\n"
    }
   }
  },
  {
   "cell_type": "code",
   "source": [
    "# get dense input similarities\n",
    "min_dist = 0.1\n",
    "spread = 1.0\n",
    "a, b= umap.umap_.find_ab_params(spread=spread, min_dist=min_dist)\n",
    "low_sim = compute_low_dim_psims(data, a, b)\n",
    "low_sim_sparse = coo_matrix(low_sim)"
   ],
   "metadata": {
    "collapsed": false,
    "pycharm": {
     "name": "#%%\n"
    }
   },
   "execution_count": 11,
   "outputs": []
  },
  {
   "cell_type": "code",
   "execution_count": 13,
   "outputs": [],
   "source": [
    "# Initialize at input data, use dense input similarities\n",
    "try:\n",
    "    with open(os.path.join(data_path, f\"toy_ring_{n}_{radius}_{sig_str}_umapperns_init_graph_seed_{data_seed}_{umap_seed}.pkl\"), \"rb\") as file:\n",
    "        umapperns_init_graph = pickle.load(file)\n",
    "        embd_init_graph = umapperns_init_graph.embedding_\n",
    "except FileNotFoundError:\n",
    "    umapperns_init_graph = umap.UMAP(init=data,\n",
    "                                       graph=low_sim_sparse,\n",
    "                                       min_dist=min_dist,\n",
    "                                       spread=spread,\n",
    "                                       random_state=umap_seed,\n",
    "                                       verbose=True)\n",
    "    embd_init_graph = umapperns_init_graph.fit_transform(data)\n",
    "    with open(os.path.join(data_path, f\"toy_ring_{n}_{radius}_{sig_str}_umapperns_init_graph_seed_{data_seed}_{umap_seed}.pkl\"), \"wb\") as file:\n",
    "        pickle.dump(umapperns_init_graph, file, pickle.HIGHEST_PROTOCOL)\n"
   ],
   "metadata": {
    "collapsed": false,
    "pycharm": {
     "name": "#%%\n"
    }
   }
  },
  {
   "cell_type": "code",
   "execution_count": null,
   "outputs": [],
   "source": [
    "plt.scatter(*embd_init_graph.T, s=1, alpha=0.5)\n",
    "plt.gca().set_aspect(\"equal\")\n",
    "plt.axis('off')\n",
    "plt.savefig(os.path.join(fig_path, f\"toy_ring_{n}_{radius}_{sig_str}_init_graph_seed_{data_seed}_{umap_seed}.png\"),\n",
    "            bbox_inches = 'tight',\n",
    "            pad_inches = 0,dpi=300)"
   ],
   "metadata": {
    "collapsed": false,
    "pycharm": {
     "name": "#%%\n"
    }
   }
  },
  {
   "cell_type": "code",
   "execution_count": 14,
   "outputs": [],
   "source": [
    "# Initialize at input data, optimize for 10000 epochs use dense input similarities\n",
    "try:\n",
    "    with open(os.path.join(data_path, f\"toy_ring_{n}_{radius}_{sig_str}_umapperns_init_graph_10000_seed_{data_seed}_{umap_seed}.pkl\"), \"rb\") as file:\n",
    "        umapperns_init_graph_10000 = pickle.load(file)\n",
    "        embd_init_graph_10000 = umapperns_init_graph_10000.embedding_\n",
    "except FileNotFoundError:\n",
    "    umapperns_init_graph_10000 = umap.UMAP(init=data,\n",
    "                                             graph=low_sim_sparse,\n",
    "                                             min_dist=min_dist,\n",
    "                                             spread=spread,\n",
    "                                             n_epochs=10000,\n",
    "                                             random_state=umap_seed,\n",
    "                                             verbose=True)\n",
    "    embd_init_graph_10000 = umapperns_init_graph_10000.fit_transform(data)\n",
    "    with open(os.path.join(data_path, f\"toy_ring_{n}_{radius}_{sig_str}_umapperns_init_graph_10000_seed_{data_seed}_{umap_seed}.pkl\"), \"wb\") as file:\n",
    "        pickle.dump(umapperns_init_graph_10000, file, pickle.HIGHEST_PROTOCOL)\n"
   ],
   "metadata": {
    "collapsed": false,
    "pycharm": {
     "name": "#%%\n"
    }
   }
  },
  {
   "cell_type": "code",
   "execution_count": 15,
   "outputs": [
    {
     "data": {
      "text/plain": "<Figure size 432x288 with 1 Axes>",
      "image/png": "[encoded data removed]"
     },
     "metadata": {
      "needs_background": "light"
     },
     "output_type": "display_data"
    }
   ],
   "source": [
    "plt.scatter(*embd_init_graph_10000.T, s=1, alpha=0.5)\n",
    "plt.gca().set_aspect(\"equal\")\n",
    "plt.axis('off')\n",
    "plt.savefig(os.path.join(fig_path, f\"toy_ring_{n}_{radius}_{sig_str}_init_graph_10000_seed_{data_seed}_{umap_seed}.png\"),\n",
    "            bbox_inches = 'tight',\n",
    "            pad_inches = 0,dpi=300)\n",
    "\n",
    "\n"
   ],
   "metadata": {
    "collapsed": false,
    "pycharm": {
     "name": "#%%\n"
    }
   }
  },
  {
   "cell_type": "markdown",
   "source": [
    "## Push tail of negative samples\n",
    "\n"
   ],
   "metadata": {
    "collapsed": false,
    "pycharm": {
     "name": "#%% md\n"
    }
   }
  },
  {
   "cell_type": "code",
   "execution_count": null,
   "outputs": [],
   "source": [
    "# Initialize at input data, optimize for 10000 epochs and push tail of negative sample\n",
    "try:\n",
    "    with open(os.path.join(data_path, f\"toy_ring_{n}_{radius}_{sig_str}_umapperns_init_10000_losses_push_tail_seed_{data_seed}_{umap_seed}.pkl\"), \"rb\") as file:\n",
    "        umapperns_init_10000_losses_push_tail = pickle.load(file)\n",
    "        embd_init_10000_losses_push_tail = umapperns_init_10000_losses_push_tail.embedding_\n",
    "except FileNotFoundError:\n",
    "    umapperns_init_10000_losses_push_tail = umap.UMAP(init=data,\n",
    "                                                        random_state=umap_seed,\n",
    "                                                        n_epochs=10000,\n",
    "                                                        verbose=True,\n",
    "                                                        push_tail=True)\n",
    "    embd_init_10000_losses_push_tail = umapperns_init_10000_losses_push_tail.fit_transform(data)\n",
    "    with open(os.path.join(data_path, f\"toy_ring_{n}_{radius}_{sig_str}_umapperns_init_10000_losses_push_tail_seed_{data_seed}_{umap_seed}.pkl\"), \"wb\") as file:\n",
    "        pickle.dump(umapperns_init_10000_losses_push_tail, file, pickle.HIGHEST_PROTOCOL)\n"
   ],
   "metadata": {
    "collapsed": false,
    "pycharm": {
     "name": "#%%\n"
    }
   }
  },
  {
   "cell_type": "code",
   "execution_count": null,
   "outputs": [],
   "source": [
    "plt.figure()\n",
    "plt.scatter(*embd_init_10000_losses_push_tail.T, s=1, alpha = 0.5)\n",
    "plt.gca().set_aspect(\"equal\")\n",
    "plt.axis('off')\n",
    "plt.savefig(os.path.join(fig_path, f\"toy_ring_{n}_{radius}_{sig_str}_init_10000_push_tail_seed_{data_seed}_{umap_seed}.png\"),\n",
    "            bbox_inches = 'tight',\n",
    "            pad_inches = 0,dpi=300)\n"
   ],
   "metadata": {
    "collapsed": false,
    "pycharm": {
     "name": "#%%\n"
    }
   }
  },
  {
   "cell_type": "code",
   "execution_count": null,
   "outputs": [],
   "source": [
    "# Initialize at input data, optimize for 10000 iterations, use dense input similarities and push tail of negative sample\n",
    "try:\n",
    "    with open(os.path.join(data_path, f\"toy_ring_{n}_{radius}_{sig_str}_umapperns_init_graph_10000_losses_push_tail_seed_{data_seed}_{umap_seed}.pkl\"), \"rb\") as file:\n",
    "        umapperns_init_graph_10000_losses_push_tail = pickle.load(file)\n",
    "        embd_init_graph_10000_losses_push_tail = umapperns_init_graph_10000_losses_push_tail.embedding_\n",
    "except FileNotFoundError:\n",
    "    umapperns_init_graph_10000_losses_push_tail = umap.UMAP(init=data,\n",
    "                                                              graph=low_sim_sparse,\n",
    "                                                              random_state=umap_seed,\n",
    "                                                              n_epochs=10000,\n",
    "                                                              verbose=True,\n",
    "                                                              push_tail=True)\n",
    "    embd_init_graph_10000_losses_push_tail = umapperns_init_graph_10000_losses_push_tail.fit_transform(data)\n",
    "    with open(os.path.join(data_path, f\"toy_ring_{n}_{radius}_{sig_str}_umapperns_init_graph_10000_losses_push_tail_seed_{data_seed}_{umap_seed}.pkl\"), \"wb\") as file:\n",
    "        pickle.dump(umapperns_init_graph_10000_losses_push_tail, file, pickle.HIGHEST_PROTOCOL)"
   ],
   "metadata": {
    "collapsed": false,
    "pycharm": {
     "name": "#%%\n"
    }
   }
  },
  {
   "cell_type": "code",
   "execution_count": null,
   "outputs": [],
   "source": [
    "plt.figure()\n",
    "plt.scatter(*embd_init_graph_10000_losses_push_tail.T, s=1, alpha = 0.5)\n",
    "plt.gca().set_aspect(\"equal\")\n",
    "plt.axis('off')\n",
    "plt.savefig(os.path.join(fig_path, f\"toy_ring_{n}_{radius}_{sig_str}_init_graph_10000_push_tail_seed_{data_seed}_{umap_seed}.png\"),\n",
    "            bbox_inches = 'tight',\n",
    "            pad_inches = 0,dpi=300)"
   ],
   "metadata": {
    "collapsed": false,
    "pycharm": {
     "name": "#%%\n"
    }
   }
  },
  {
   "cell_type": "code",
   "execution_count": null,
   "outputs": [],
   "source": [],
   "metadata": {
    "collapsed": false,
    "pycharm": {
     "name": "#%%\n"
    }
   }
  }
 ],
 "metadata": {
  "kernelspec": {
   "name": "conda-env-umap-negs-py",
   "language": "python",
   "display_name": "Python [conda env:umap-negs]"
  },
  "language_info": {
   "codemirror_mode": {
    "name": "ipython",
    "version": 2
   },
   "file_extension": ".py",
   "mimetype": "text/x-python",
   "name": "python",
   "nbconvert_exporter": "python",
   "pygments_lexer": "ipython2",
   "version": "2.7.6"
  }
 },
 "nbformat": 4,
 "nbformat_minor": 0
}