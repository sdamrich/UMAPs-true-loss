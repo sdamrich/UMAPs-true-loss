{
 "cells": [
  {
   "cell_type": "markdown",
   "source": [
    "# Run times of main experiments"
   ],
   "metadata": {
    "collapsed": false
   }
  },
  {
   "cell_type": "code",
   "execution_count": null,
   "metadata": {
    "collapsed": true
   },
   "outputs": [],
   "source": [
    "%env CUDA_VISIBLE_DEVICES=3\n",
    "\n",
    "import numpy as np\n",
    "import pandas as pd\n",
    "import os\n",
    "import umap\n",
    "from vis_utils.utils import get_ring, compute_low_dim_psims\n",
    "from scipy.sparse import coo_matrix"
   ]
  },
  {
   "cell_type": "markdown",
   "source": [
    "## C. elegans experiments"
   ],
   "metadata": {
    "collapsed": false,
    "pycharm": {
     "name": "#%% md\n"
    }
   }
  },
  {
   "cell_type": "code",
   "execution_count": null,
   "outputs": [],
   "source": [
    "# load C.elegans data\n",
    "data_path = \"../data/packer_c-elegans\"\n",
    "pca100 = pd.read_csv(os.path.join(data_path, \"c-elegans_qc_final.txt\"),\n",
    "                     sep='\\t',\n",
    "                     header=None)\n",
    "pca100.shape"
   ],
   "metadata": {
    "collapsed": false,
    "pycharm": {
     "name": "#%%\n"
    }
   }
  },
  {
   "cell_type": "markdown",
   "source": [
    "### Run times without loss logging"
   ],
   "metadata": {
    "collapsed": false,
    "pycharm": {
     "name": "#%% md\n"
    }
   }
  },
  {
   "cell_type": "code",
   "execution_count": null,
   "outputs": [],
   "source": [
    "def run_umap_no_loss_c_elegans():\n",
    "    umapper = umap.UMAP(metric=\"cosine\",\n",
    "                    n_neighbors=30,\n",
    "                    n_epochs=750,\n",
    "                    random_state=0,\n",
    "                    verbose=False)\n",
    "    umapper.fit_transform(pca100)"
   ],
   "metadata": {
    "collapsed": false,
    "pycharm": {
     "name": "#%%\n"
    }
   }
  },
  {
   "cell_type": "code",
   "execution_count": null,
   "outputs": [],
   "source": [
    "# typically 8 mins\n",
    "%timeit -oq  _ = run_umap_no_loss_c_elegans()"
   ],
   "metadata": {
    "collapsed": false,
    "pycharm": {
     "name": "#%%\n"
    }
   }
  },
  {
   "cell_type": "code",
   "execution_count": null,
   "outputs": [],
   "source": [
    "time_no_loss_logging = str(_)\n",
    "with open(os.path.join(data_path, f\"c_elegans_time_no_loss_logging\"), \"w\") as file:\n",
    "    file.write(\"C elegans no loss logging profiling\\n\")\n",
    "    file.write(time_no_loss_logging + \"\\n\")"
   ],
   "metadata": {
    "collapsed": false,
    "pycharm": {
     "name": "#%%\n"
    }
   }
  },
  {
   "cell_type": "markdown",
   "source": [
    "### With loss logging after full epoch"
   ],
   "metadata": {
    "collapsed": false,
    "pycharm": {
     "name": "#%% md\n"
    }
   }
  },
  {
   "cell_type": "code",
   "execution_count": null,
   "outputs": [],
   "source": [
    "def run_umap_c_elegans():\n",
    "    umapper_after = umap.UMAP(metric=\"cosine\",\n",
    "                            n_neighbors=30,\n",
    "                            n_epochs=750,\n",
    "                            log_losses=\"after\",\n",
    "                            random_state=0,\n",
    "                            verbose=False)\n",
    "    umapper_after.fit_transform(pca100)\n"
   ],
   "metadata": {
    "collapsed": false,
    "pycharm": {
     "name": "#%%\n"
    }
   }
  },
  {
   "cell_type": "code",
   "execution_count": null,
   "outputs": [],
   "source": [
    "#typically 30 mins\n",
    "%timeit -oq _ = run_umap_c_elegans()"
   ],
   "metadata": {
    "collapsed": false,
    "pycharm": {
     "name": "#%%\n"
    }
   }
  },
  {
   "cell_type": "code",
   "execution_count": null,
   "outputs": [],
   "source": [
    "time_loss_logging_after = str(_)\n",
    "with open(f\"c_elegans_time_loss_logging_after\", \"w\") as file:\n",
    "    file.write(\"C elegans loss logging 'after' profiling\\n\")\n",
    "    file.write(time_loss_logging_after + \"\\n\")"
   ],
   "metadata": {
    "collapsed": false,
    "pycharm": {
     "name": "#%%\n"
    }
   }
  },
  {
   "cell_type": "markdown",
   "source": [
    "## Toy ring experiments"
   ],
   "metadata": {
    "collapsed": false,
    "pycharm": {
     "name": "#%% md\n"
    }
   }
  },
  {
   "cell_type": "code",
   "execution_count": null,
   "outputs": [],
   "source": [
    "# get data\n",
    "data_path = \"../data/toy_ring\"\n",
    "seed = 3\n",
    "try:\n",
    "    data = np.load(os.path.join(data_path, f\"toy_ring_1000_4_0_5_original_seed_{seed}.npy\"))\n",
    "except FileNotFoundError:\n",
    "    data = get_ring(1000, 4, 0.5, noise=\"uniform\")  # n=7000, r = 4, var = 0.5 yiels crisp circle for n_epochs=10000\n",
    "    np.save(os.path.join(data_path,\n",
    "                         f\"toy_ring_1000_4_0_5_original_seed_{seed}.npy\"),\n",
    "            data)\n"
   ],
   "metadata": {
    "collapsed": false,
    "pycharm": {
     "name": "#%%\n"
    }
   }
  },
  {
   "cell_type": "markdown",
   "source": [
    "### Initialization at input data and optimization for 10000 epochs"
   ],
   "metadata": {
    "collapsed": false,
    "pycharm": {
     "name": "#%% md\n"
    }
   }
  },
  {
   "cell_type": "code",
   "execution_count": null,
   "outputs": [],
   "source": [
    "def run_umap_init_10000(data):\n",
    "    umapperns_init_10000 = umap.UMAP(random_state=0,\n",
    "                                       init=data,\n",
    "                                       n_epochs=10000,\n",
    "                                       verbose=False)\n",
    "    umapperns_init_10000.fit_transform(data)"
   ],
   "metadata": {
    "collapsed": false,
    "pycharm": {
     "name": "#%%\n"
    }
   }
  },
  {
   "cell_type": "code",
   "execution_count": null,
   "outputs": [],
   "source": [
    "%timeit -oq  _ = run_umap_init_10000(data)"
   ],
   "metadata": {
    "collapsed": false,
    "pycharm": {
     "name": "#%%\n"
    }
   }
  },
  {
   "cell_type": "code",
   "execution_count": null,
   "outputs": [],
   "source": [
    "time_ring_init_10000 = str(_)\n",
    "with open(os.path.join(data_path, f\"toy_ring_init_10000_profiling\"), \"w\") as file:\n",
    "    file.write(\"toy ring init 10000 profiling\\n\")\n",
    "    file.write(time_ring_init_10000 + \"\\n\")"
   ],
   "metadata": {
    "collapsed": false,
    "pycharm": {
     "name": "#%%\n"
    }
   }
  },
  {
   "cell_type": "markdown",
   "source": [
    "### Initialization at input data,  dense input similarities and optimization for  10000 epochs"
   ],
   "metadata": {
    "collapsed": false,
    "pycharm": {
     "name": "#%% md\n"
    }
   }
  },
  {
   "cell_type": "code",
   "execution_count": null,
   "outputs": [],
   "source": [
    "min_dist = 0.1\n",
    "spread = 1.0\n",
    "a, b= umap.umap_.find_ab_params(spread=spread, min_dist=min_dist)\n",
    "low_sim = compute_low_dim_psims(data, a, b)\n",
    "low_sim_sparse = coo_matrix(low_sim)\n"
   ],
   "metadata": {
    "collapsed": false,
    "pycharm": {
     "name": "#%%\n"
    }
   }
  },
  {
   "cell_type": "code",
   "execution_count": null,
   "outputs": [],
   "source": [
    "def run_umap_init_graph_10000(data, low_sim_sparse):\n",
    "    umapperns_init_graph_10000 = umap.UMAP(random_state=0,\n",
    "                                             init=data,\n",
    "                                             graph=low_sim_sparse,\n",
    "                                             n_epochs=10000,\n",
    "                                             verbose=False)\n",
    "    umapperns_init_graph_10000.fit_transform(data)"
   ],
   "metadata": {
    "collapsed": false,
    "pycharm": {
     "name": "#%%\n"
    }
   }
  },
  {
   "cell_type": "code",
   "execution_count": null,
   "outputs": [],
   "source": [
    "%timeit -oq  _ = run_umap_init_graph_10000(data, low_sim_sparse)"
   ],
   "metadata": {
    "collapsed": false,
    "pycharm": {
     "name": "#%%\n"
    }
   }
  },
  {
   "cell_type": "code",
   "execution_count": null,
   "outputs": [],
   "source": [
    "time_ring_init_graph_10000 = str(_)\n",
    "with open(os.path.join(data_path, f\"toy_ring_init_graph_10000_profiling\"), \"w\") as file:\n",
    "    file.write(\"toy ring init graph 10000 profiling\\n\")\n",
    "    file.write(time_ring_init_graph_10000 + \"\\n\")\n",
    "\n",
    "\n"
   ],
   "metadata": {
    "collapsed": false,
    "pycharm": {
     "name": "#%%\n"
    }
   }
  },
  {
   "cell_type": "markdown",
   "source": [
    "# CIFAR 10 data"
   ],
   "metadata": {
    "collapsed": false,
    "pycharm": {
     "name": "#%% md\n"
    }
   }
  },
  {
   "cell_type": "code",
   "execution_count": null,
   "outputs": [],
   "source": [
    "#load the data\n",
    "data_path_cifar = \"../data/cifar10\"\n",
    "\n",
    "cifar10_resnet50 = np.load(os.path.join(data_path_cifar, \"cifar10_resnet50_features.npy\"))"
   ],
   "metadata": {
    "collapsed": false,
    "pycharm": {
     "name": "#%%\n"
    }
   }
  },
  {
   "cell_type": "code",
   "execution_count": null,
   "outputs": [],
   "source": [
    "def run_umap_cifar10(data):\n",
    "    umapperns_cifar = umap.UMAP(random_state=0,\n",
    "                                  log_losses=\"after\")\n",
    "    umapperns_cifar.fit_transform(data)"
   ],
   "metadata": {
    "collapsed": false,
    "pycharm": {
     "name": "#%%\n"
    }
   }
  },
  {
   "cell_type": "code",
   "execution_count": null,
   "outputs": [],
   "source": [
    "%timeit -oq  _ = run_umap_cifar10(cifar10_resnet50)"
   ],
   "metadata": {
    "collapsed": false,
    "pycharm": {
     "name": "#%%\n"
    }
   }
  },
  {
   "cell_type": "code",
   "execution_count": null,
   "outputs": [],
   "source": [
    "time_cifar10 = str(_)\n",
    "with open(os.path.join(data_path_cifar, f\"cifar10_profiling\"), \"w\") as file:\n",
    "    file.write(\"cifar 10 profiling\\n\")\n",
    "    file.write(time_cifar10 + \"\\n\")\n"
   ],
   "metadata": {
    "collapsed": false,
    "pycharm": {
     "name": "#%%\n"
    }
   }
  },
  {
   "cell_type": "markdown",
   "source": [
    "# PBMC data"
   ],
   "metadata": {
    "collapsed": false
   }
  },
  {
   "cell_type": "code",
   "execution_count": null,
   "outputs": [],
   "source": [
    "#load the data\n",
    "data_path_pbmc = \"../data/zheng_pbmc\"\n",
    "# load the data\n",
    "pca50 = pd.read_csv(os.path.join(data_path_pbmc,\n",
    "                              \"pbmc_qc_final.txt\"),\n",
    "                     sep='\\t',\n",
    "                     header=None)"
   ],
   "metadata": {
    "collapsed": false,
    "pycharm": {
     "name": "#%%\n"
    }
   }
  },
  {
   "cell_type": "code",
   "execution_count": null,
   "outputs": [],
   "source": [
    "def run_umap_pbmc(data):\n",
    "    umapperns_pbmc = umap.UMAP(metric=\"cosine\",\n",
    "                                 n_neighbors=30,\n",
    "                                 n_epochs=750,\n",
    "                                 log_losses=\"after\",\n",
    "                                 random_state=0)\n",
    "    umapperns_pbmc.fit_transform(data)"
   ],
   "metadata": {
    "collapsed": false,
    "pycharm": {
     "name": "#%%\n"
    }
   }
  },
  {
   "cell_type": "code",
   "execution_count": null,
   "outputs": [],
   "source": [
    "%timeit -oq  _ = run_umap_pbmc(pca50)"
   ],
   "metadata": {
    "collapsed": false,
    "pycharm": {
     "name": "#%%\n"
    }
   }
  },
  {
   "cell_type": "code",
   "execution_count": null,
   "outputs": [],
   "source": [
    "time_pbmc = str(_)\n",
    "with open(os.path.join(data_path_pbmc, f\"pbmc_profiling\"), \"w\") as file:\n",
    "    file.write(\"pbmc profiling\\n\")\n",
    "    file.write(time_pbmc + \"\\n\")\n",
    "\n"
   ],
   "metadata": {
    "collapsed": false,
    "pycharm": {
     "name": "#%%\n"
    }
   }
  },
  {
   "cell_type": "markdown",
   "source": [
    "# Lung cancer data"
   ],
   "metadata": {
    "collapsed": false
   }
  },
  {
   "cell_type": "code",
   "execution_count": null,
   "outputs": [],
   "source": [
    "#load the data\n",
    "data_path_lung_cancer = \"../data/zilionis_cancer\"\n",
    "\n",
    "# load the data\n",
    "pca306 = pd.read_csv(os.path.join(data_path_lung_cancer,\n",
    "                              \"cancer_qc_final.txt\"),\n",
    "                     sep='\\t',\n",
    "                     header=None)"
   ],
   "metadata": {
    "collapsed": false,
    "pycharm": {
     "name": "#%%\n"
    }
   }
  },
  {
   "cell_type": "code",
   "execution_count": null,
   "outputs": [],
   "source": [
    "def run_umap_lung_cancer(data):\n",
    "    umapperns_lung_cancer = umap.UMAP(metric=\"cosine\",\n",
    "                                        n_neighbors=30,\n",
    "                                        n_epochs=750,\n",
    "                                        log_losses=\"after\",\n",
    "                                        random_state=0)\n",
    "    umapperns_lung_cancer.fit_transform(data)"
   ],
   "metadata": {
    "collapsed": false,
    "pycharm": {
     "name": "#%%\n"
    }
   }
  },
  {
   "cell_type": "code",
   "execution_count": null,
   "outputs": [],
   "source": [
    "%timeit -oq  _ = run_umap_lung_cancer(pca306)"
   ],
   "metadata": {
    "collapsed": false,
    "pycharm": {
     "name": "#%%\n"
    }
   }
  },
  {
   "cell_type": "code",
   "execution_count": null,
   "outputs": [],
   "source": [
    "time_lung_cancer = str(_)\n",
    "with open(os.path.join(data_path_lung_cancer, f\"lung_cancer_profiling\"), \"w\") as file:\n",
    "    file.write(\"lung cancer profiling\\n\")\n",
    "    file.write(time_lung_cancer + \"\\n\")\n",
    "\n"
   ],
   "metadata": {
    "collapsed": false,
    "pycharm": {
     "name": "#%%\n"
    }
   }
  },
  {
   "cell_type": "markdown",
   "source": [
    "# Multi rings"
   ],
   "metadata": {
    "collapsed": false
   }
  },
  {
   "cell_type": "code",
   "execution_count": null,
   "outputs": [],
   "source": [
    "# get data\n",
    "data_path_ring = \"../data/toy_ring\"\n",
    "n_rings = [2, 5, 10, 20] # time for one ring is measured above\n",
    "\n",
    "# get data\n",
    "datasets_multi_ring = []\n",
    "for k in n_rings:\n",
    "    try:\n",
    "        data_rings = np.load(os.path.join(data_path_ring, f\"toy_ring_multi_{k}_1000_4_0_5_original_seed_3.npy\"))\n",
    "    except FileNotFoundError:\n",
    "        np.random.seed(3)\n",
    "        data_rings = []\n",
    "        for i in range(k):\n",
    "            data = get_ring(1000, 4, 0.5, noise=\"uniform\") + np.array([1, 0]) * i * 4 * 3\n",
    "            data_rings.append(data)\n",
    "        data_rings = np.concatenate(data_rings)\n",
    "        np.save(os.path.join(data_path_ring,\n",
    "                             f\"toy_ring_multi_{k}_1000_4_0_5_original_seed_3.npy\"),\n",
    "                data_rings)\n",
    "    datasets_multi_ring.append(data_rings)\n",
    "\n"
   ],
   "metadata": {
    "collapsed": false,
    "pycharm": {
     "name": "#%%\n"
    }
   }
  },
  {
   "cell_type": "code",
   "execution_count": null,
   "outputs": [],
   "source": [
    "def run_umap_multi_ring(data):\n",
    "    for dataset in data:\n",
    "        umapperns_multi_ring = umap.UMAP(random_state=0,\n",
    "                                           n_epochs=10000,\n",
    "                                           init=dataset)\n",
    "        umapperns_multi_ring.fit(dataset)"
   ],
   "metadata": {
    "collapsed": false,
    "pycharm": {
     "name": "#%%\n"
    }
   }
  },
  {
   "cell_type": "code",
   "execution_count": null,
   "outputs": [],
   "source": [
    "%timeit -oq  _ = run_umap_multi_ring(datasets_multi_ring)"
   ],
   "metadata": {
    "collapsed": false,
    "pycharm": {
     "name": "#%%\n"
    }
   }
  },
  {
   "cell_type": "code",
   "execution_count": null,
   "outputs": [],
   "source": [
    "time_multi_ring = str(_)\n",
    "with open(os.path.join(data_path_ring, f\"toy_multi_ring_profiling\"), \"w\") as file:\n",
    "    file.write(\"toy multi ring profiling\\n\")\n",
    "    file.write(time_multi_ring + \"\\n\")\n"
   ],
   "metadata": {
    "collapsed": false,
    "pycharm": {
     "name": "#%%\n"
    }
   }
  },
  {
   "cell_type": "markdown",
   "source": [
    "# Single ring vary n"
   ],
   "metadata": {
    "collapsed": false
   }
  },
  {
   "cell_type": "code",
   "execution_count": null,
   "outputs": [],
   "source": [
    "data_path_ring = \"../data/toy_ring\"\n",
    "\n",
    "# get the data\n",
    "sizes = [50, 100, 200, 300, 400, 500, 600, 700, 800, 900, 2000, 5000, 7000, 8000, 10000] # 1000 is measured above\n",
    "datasets = []\n",
    "for n in sizes:\n",
    "    try:\n",
    "        data = np.load(os.path.join(data_path_ring, f\"toy_ring_{n}_4_0_5_original_seed_3.npy\"))\n",
    "    except FileNotFoundError:\n",
    "        np.random.seed(3)\n",
    "        data = get_ring(n, 4, 0.5, noise=\"uniform\")\n",
    "        np.save(os.path.join(data_path_ring,\n",
    "                             f\"toy_ring_{n}_4_0_5_original_seed_3.npy\"),\n",
    "                data)\n",
    "    datasets.append(data)\n",
    "\n"
   ],
   "metadata": {
    "collapsed": false,
    "pycharm": {
     "name": "#%%\n"
    }
   }
  },
  {
   "cell_type": "code",
   "execution_count": null,
   "outputs": [],
   "source": [
    "def run_umap_vary_n(data):\n",
    "    for dataset in data:\n",
    "        umapper_vary_n = umap.UMAP(random_state=0,\n",
    "                                      n_epochs=10000,\n",
    "                                      init=dataset)\n",
    "        umapper_vary_n.fit(dataset)"
   ],
   "metadata": {
    "collapsed": false,
    "pycharm": {
     "name": "#%%\n"
    }
   }
  },
  {
   "cell_type": "code",
   "execution_count": null,
   "outputs": [],
   "source": [
    "%timeit -oq  _ = run_umap_vary_n(datasets)"
   ],
   "metadata": {
    "collapsed": false,
    "pycharm": {
     "name": "#%%\n"
    }
   }
  },
  {
   "cell_type": "code",
   "execution_count": null,
   "outputs": [],
   "source": [
    "time_vary_n = str(_)\n",
    "with open(os.path.join(data_path_ring, f\"toy_ring_vary_n_profiling\"), \"w\") as file:\n",
    "    file.write(\"toy ring vary n profiling\\n\")\n",
    "    file.write(time_vary_n + \"\\n\")"
   ],
   "metadata": {
    "collapsed": false,
    "pycharm": {
     "name": "#%%\n"
    }
   }
  },
  {
   "cell_type": "markdown",
   "source": [
    "## Dense input similarities"
   ],
   "metadata": {
    "collapsed": false,
    "pycharm": {
     "name": "#%% md\n"
    }
   }
  },
  {
   "cell_type": "code",
   "execution_count": null,
   "outputs": [],
   "source": [
    "# get dense input similarities\n",
    "min_dist = 0.1\n",
    "spread = 1.0\n",
    "a, b= umap.umap_.find_ab_params(spread=spread, min_dist=min_dist)"
   ],
   "metadata": {
    "collapsed": false,
    "pycharm": {
     "name": "#%%\n"
    }
   }
  },
  {
   "cell_type": "code",
   "execution_count": null,
   "outputs": [],
   "source": [
    "# get the data\n",
    "sizes_graph = [100, 200, 500, 2000, 5000] # size 1000 is already measured\n",
    "datasets_graph = []\n",
    "for n in sizes_graph:\n",
    "    try:\n",
    "        data = np.load(os.path.join(data_path_ring, f\"toy_ring_{n}_4_0_5_original_seed_3.npy\"))\n",
    "    except FileNotFoundError:\n",
    "        np.random.seed(3)\n",
    "        data = get_ring(n, 4, 0.5, noise=\"uniform\")\n",
    "        np.save(os.path.join(data_path_ring,\n",
    "                             f\"toy_ring_{n}_4_0_5_original_seed_3.npy\"),\n",
    "                data)\n",
    "    datasets_graph.append(data)"
   ],
   "metadata": {
    "collapsed": false,
    "pycharm": {
     "name": "#%%\n"
    }
   }
  },
  {
   "cell_type": "code",
   "execution_count": null,
   "outputs": [],
   "source": [
    "low_sims_sparse = [coo_matrix(compute_low_dim_psims(data, a, b)) for data in datasets_graph]"
   ],
   "metadata": {
    "collapsed": false,
    "pycharm": {
     "name": "#%%\n"
    }
   }
  },
  {
   "cell_type": "code",
   "execution_count": null,
   "outputs": [],
   "source": [
    "def run_umap_vary_n_graph(data):\n",
    "    for i, dataset in enumerate(data):\n",
    "        umapperns_vary_n_graph = umap.UMAP(init=dataset,\n",
    "                                             graph=low_sims_sparse[i],\n",
    "                                             n_epochs=10000,\n",
    "                                             random_state=0)\n",
    "        umapperns_vary_n_graph.fit(dataset)"
   ],
   "metadata": {
    "collapsed": false,
    "pycharm": {
     "name": "#%%\n"
    }
   }
  },
  {
   "cell_type": "code",
   "execution_count": null,
   "outputs": [],
   "source": [
    "%timeit -oq -n 2 -r 1  _ = run_umap_vary_n_graph(datasets_graph)"
   ],
   "metadata": {
    "collapsed": false,
    "pycharm": {
     "name": "#%%\n"
    }
   }
  },
  {
   "cell_type": "code",
   "execution_count": null,
   "outputs": [],
   "source": [
    "time_vary_n_graph = str(_)\n",
    "with open(os.path.join(data_path_ring, f\"toy_ring_vary_n_graph_profiling\"), \"w\") as file:\n",
    "    file.write(\"toy ring vary n graph profiling\\n\")\n",
    "    file.write(time_vary_n_graph + \"\\n\")\n",
    "\n",
    "\n",
    "\n",
    "\n"
   ],
   "metadata": {
    "collapsed": false,
    "pycharm": {
     "name": "#%%\n"
    }
   }
  }
 ],
 "metadata": {
  "kernelspec": {
   "name": "conda-env-umap-negs-py",
   "language": "python",
   "display_name": "Python [conda env:umap-negs]"
  },
  "language_info": {
   "codemirror_mode": {
    "name": "ipython",
    "version": 2
   },
   "file_extension": ".py",
   "mimetype": "text/x-python",
   "name": "python",
   "nbconvert_exporter": "python",
   "pygments_lexer": "ipython2",
   "version": "2.7.6"
  }
 },
 "nbformat": 4,
 "nbformat_minor": 0
}