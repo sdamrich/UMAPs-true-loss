{
 "cells": [
  {
   "cell_type": "markdown",
   "source": [
    "# UMAP on the C.elegans dataset"
   ],
   "metadata": {
    "collapsed": false,
    "pycharm": {
     "name": "#%% md\n"
    }
   }
  },
  {
   "cell_type": "code",
   "execution_count": null,
   "outputs": [],
   "source": [
    "%load_ext autoreload\n",
    "%autoreload 2\n",
    "%env CUDA_VISIBLE_DEVICES=2\n",
    "import numpy as np\n",
    "import pandas as pd\n",
    "import os\n",
    "from sklearn.decomposition import PCA\n",
    "import matplotlib.pyplot as plt\n",
    "import umap\n",
    "from firelight.visualizers.colorization import get_distinct_colors\n",
    "from matplotlib.colors import ListedColormap\n",
    "import pickle\n",
    "import matplotlib\n",
    "from vis_utils.plot import plot_all_losses\n"
   ],
   "metadata": {
    "collapsed": false,
    "pycharm": {
     "name": "#%%\n"
    }
   }
  },
  {
   "cell_type": "code",
   "execution_count": null,
   "outputs": [],
   "source": [
    "dir_path = \"../data/packer_c-elegans\"\n",
    "fig_path = \"../figures\"\n",
    "seed = 0\n",
    "special_cell_type = \"Seam_cell\""
   ],
   "metadata": {
    "collapsed": false,
    "pycharm": {
     "name": "#%%\n"
    }
   }
  },
  {
   "cell_type": "code",
   "execution_count": null,
   "outputs": [],
   "source": [
    "# load the data\n",
    "pca100 = pd.read_csv(os.path.join(dir_path,\n",
    "                              \"c-elegans_qc_final.txt\"),\n",
    "                     sep='\\t',\n",
    "                     header=None)\n",
    "pca100.shape"
   ],
   "metadata": {
    "collapsed": false,
    "pycharm": {
     "name": "#%%\n"
    }
   }
  },
  {
   "cell_type": "code",
   "execution_count": null,
   "outputs": [],
   "source": [
    "# read meta data, obtain colors and ordering of cells that puts special_cell_type to the front and unlabelled cells to\n",
    "# the back\n",
    "meta = pd.read_csv(os.path.join(dir_path,\n",
    "                              \"c-elegans_qc_final_metadata.txt\"),\n",
    "                   sep=',',\n",
    "                   header=0)\n",
    "\n",
    "cell_types = meta[\"cell.type\"].to_numpy().astype(str)\n",
    "\n",
    "labels = np.zeros(len(cell_types)).astype(int)\n",
    "name_to_label = {}\n",
    "for i, phase in enumerate(np.unique(cell_types)):\n",
    "    name_to_label[phase] = i\n",
    "    labels[cell_types==phase] = i\n",
    "\n",
    "special_cell_label = name_to_label[special_cell_type]\n",
    "unnamed_label = name_to_label[\"nan\"]\n",
    "\n",
    "np.random.seed(seed)\n",
    "colors = get_distinct_colors(len(name_to_label))\n",
    "np.random.shuffle(colors)\n",
    "colors[special_cell_label] = [0,0,0]\n",
    "colors[unnamed_label] = [0.5, 0.5, 0.5]\n",
    "cmap = ListedColormap(colors)\n",
    "\n",
    "special_order1 = np.argsort(labels == special_cell_label, kind=\"stable\") # put idx of special label to the back\n",
    "special_order2 = np.argsort(labels[special_order1] != unnamed_label, kind=\"stable\") # put idx of unnamed label to the front\n",
    "special_order = special_order1[special_order2]\n",
    "special_order_no_nan = special_order[(labels==unnamed_label).sum():]"
   ],
   "metadata": {
    "collapsed": false,
    "pycharm": {
     "name": "#%%\n"
    }
   }
  },
  {
   "cell_type": "markdown",
   "source": [
    "## PCA"
   ],
   "metadata": {
    "collapsed": false,
    "pycharm": {
     "name": "#%% md\n"
    }
   }
  },
  {
   "cell_type": "code",
   "execution_count": null,
   "outputs": [],
   "source": [
    "# load / compute and save 2D PCA\n",
    "try:\n",
    "    pca2 = np.load(os.path.join(dir_path, \"PCA2D.np\"))\n",
    "except FileNotFoundError:\n",
    "    pca_projector = PCA(n_components = 2)\n",
    "    pca2 = pca_projector.fit_transform(np.array(pca100))\n",
    "    np.save(os.path.join(dir_path, \"PCA2D.npy\"), pca2)"
   ],
   "metadata": {
    "collapsed": false,
    "pycharm": {
     "name": "#%%\n"
    }
   }
  },
  {
   "cell_type": "code",
   "execution_count": null,
   "outputs": [],
   "source": [
    "# plot PCA and save figure\n",
    "plt.figure()\n",
    "scatter = plt.scatter(*pca2[special_order].T,\n",
    "                      c=colors[labels[special_order]],\n",
    "                      s=1.0)\n",
    "plt.axis(\"off\")\n",
    "plt.gca().set_aspect(\"equal\")\n",
    "plt.arrow(x=18, y=-6, dx=-1, dy=3, width=0.5, color=\"k\", zorder=5)\n",
    "plt.text(x=10, y=-9, s='seam cells', fontdict={\"size\":25})\n",
    "\n",
    "plt.savefig(os.path.join(fig_path, f\"c_elegans_PCA2_seed_{seed}.png\"),\n",
    "            bbox_inches = 'tight',\n",
    "            pad_inches = 0,\n",
    "            dpi=300)"
   ],
   "metadata": {
    "collapsed": false,
    "pycharm": {
     "name": "#%%\n"
    }
   }
  },
  {
   "cell_type": "markdown",
   "source": [
    "## UMAP\n",
    "We use the hyperparameter settings of Narayan et al.'s \"Assessing single-cell transcriptomic variability through density-preserving data\n",
    "visualization\" paper (https://doi.org/10.1038/s41587-020-00801-7) in which they propose the method \"Densmap\"\n"
   ],
   "metadata": {
    "collapsed": false,
    "pycharm": {
     "name": "#%% md\n"
    }
   }
  },
  {
   "cell_type": "markdown",
   "source": [
    "### Log losses after full epoch"
   ],
   "metadata": {
    "collapsed": false,
    "pycharm": {
     "name": "#%% md\n"
    }
   }
  },
  {
   "cell_type": "code",
   "execution_count": null,
   "outputs": [],
   "source": [
    "try:\n",
    "    with open(os.path.join(dir_path, f\"umapperns_after_seed_{seed}.pkl\"), \"rb\") as file:\n",
    "        umapperns_after = pickle.load(file)\n",
    "        embd_after = umapperns_after.embedding_\n",
    "except FileNotFoundError:\n",
    "    umapperns_after = umap.UMAP(metric=\"cosine\",\n",
    "                                  n_neighbors=30,\n",
    "                                  n_epochs=750,\n",
    "                                  log_losses=\"after\",\n",
    "                                  random_state=seed,\n",
    "                                  verbose=True)\n",
    "    embd_after = umapperns_after.fit_transform(pca100)\n",
    "    with open(os.path.join(dir_path, f\"umapperns_after_seed_{seed}.pkl\"), \"wb\") as file:\n",
    "        pickle.dump(umapperns_after, file, pickle.HIGHEST_PROTOCOL)\n"
   ],
   "metadata": {
    "collapsed": false,
    "pycharm": {
     "name": "#%%\n"
    }
   }
  },
  {
   "cell_type": "code",
   "execution_count": null,
   "outputs": [],
   "source": [
    "plt.figure(figsize=(8,8))\n",
    "scatter = plt.scatter(-embd_after[special_order][:,1],\n",
    "                      -embd_after[special_order][:,0],\n",
    "                      c=labels[special_order],\n",
    "                      s=1.0,\n",
    "                      alpha=1.0,\n",
    "                      cmap=cmap)\n",
    "plt.axis(\"off\")\n",
    "plt.gca().set_aspect(\"equal\")\n",
    "\n",
    "plt.arrow(x=8, y=-17.5, dx=1, dy=3, width=0.5, color=\"k\", zorder=5)\n",
    "\n",
    "plt.text(x=2, y=-20.5, s='seam cells', fontdict={\"size\":22})\n",
    "\n",
    "plt.savefig(os.path.join(fig_path, f\"c_elegans_after_seed_{seed}.png\"),\n",
    "            bbox_inches = 'tight',\n",
    "            pad_inches = 0,\n",
    "            dpi=300)"
   ],
   "metadata": {
    "collapsed": false,
    "pycharm": {
     "name": "#%%\n"
    }
   }
  },
  {
   "cell_type": "code",
   "execution_count": null,
   "outputs": [],
   "source": [
    "start=5 # omit early epochs where UMAP's sampling approximation is poor\n",
    "matplotlib.rcParams.update({'font.size': 15})\n",
    "fig_losses_after = plot_all_losses(umapperns_after.aux_data,start=start)\n",
    "#fig_losses_after.savefig(os.path.join(fig_path, f\"c_elegans_after_losses_{start}_seed_{seed}.png\"),\n",
    "#                         bbox_inches = 'tight',\n",
    "#                         pad_inches = 0,\n",
    "#                         dpi=300)"
   ],
   "metadata": {
    "collapsed": false,
    "pycharm": {
     "name": "#%%\n"
    }
   }
  },
  {
   "cell_type": "markdown",
   "source": [
    "### Log actual loss during epoch"
   ],
   "metadata": {
    "collapsed": false,
    "pycharm": {
     "name": "#%% md\n"
    }
   }
  },
  {
   "cell_type": "code",
   "execution_count": null,
   "outputs": [],
   "source": [
    "try:\n",
    "    with open(os.path.join(dir_path, f\"umapperns_during_seed_{seed}.pkl\"), \"rb\") as file:\n",
    "        umapperns_during = pickle.load(file)\n",
    "        embd_during = umapperns_after.embedding_\n",
    "except FileNotFoundError:\n",
    "    umapperns_during = umap.UMAP(metric=\"cosine\",\n",
    "                                  n_neighbors=30,\n",
    "                                  n_epochs=750,\n",
    "                                  log_losses=\"during\",\n",
    "                                  random_state=seed,\n",
    "                                  verbose=True)\n",
    "    embd_during = umapperns_during.fit_transform(pca100)\n",
    "    with open(os.path.join(dir_path, f\"umapperns_during_seed_{seed}.pkl\"), \"wb\") as file:\n",
    "        pickle.dump(umapperns_during, file, pickle.HIGHEST_PROTOCOL)"
   ],
   "metadata": {
    "collapsed": false,
    "pycharm": {
     "name": "#%%\n"
    }
   }
  },
  {
   "cell_type": "code",
   "execution_count": null,
   "outputs": [],
   "source": [
    "plt.figure(figsize=(8,8))\n",
    "scatter = plt.scatter(*embd_during[special_order].T,\n",
    "                      c=labels[special_order],\n",
    "                      s=1.0,\n",
    "                      alpha=1.0,\n",
    "                      cmap=cmap)\n",
    "plt.axis(\"off\")\n",
    "plt.gca().set_aspect(\"equal\")\n",
    "\n",
    "plt.savefig(os.path.join(fig_path, f\"c_elegans_during_seed_{seed}.png\"),\n",
    "            bbox_inches = 'tight',\n",
    "            pad_inches = 0,dpi=300)"
   ],
   "metadata": {
    "collapsed": false,
    "pycharm": {
     "name": "#%%\n"
    }
   }
  },
  {
   "cell_type": "code",
   "execution_count": null,
   "outputs": [],
   "source": [
    "start=5\n",
    "matplotlib.rcParams.update({'font.size': 15})\n",
    "fig_losses_during = plot_all_losses(umapperns_during.aux_data,start=5)\n",
    "fig_losses_during.savefig(os.path.join(fig_path, f\"c_elegans_during_losses_{start}_seed_{seed}.png\"),\n",
    "                          bbox_inches = 'tight',\n",
    "                          pad_inches = 0,\n",
    "                          dpi=300)\n"
   ],
   "metadata": {
    "collapsed": false,
    "pycharm": {
     "name": "#%%\n"
    }
   }
  },
  {
   "cell_type": "markdown",
   "source": [
    "## Variants with different high-dimensional similarities"
   ],
   "metadata": {
    "collapsed": false,
    "pycharm": {
     "name": "#%% md\n"
    }
   }
  },
  {
   "cell_type": "markdown",
   "source": [
    "### Shared kNN graph as high-dimensional similarities"
   ],
   "metadata": {
    "collapsed": false,
    "pycharm": {
     "name": "#%% md\n"
    }
   }
  },
  {
   "cell_type": "code",
   "execution_count": null,
   "outputs": [],
   "source": [
    "try:\n",
    "    with open(os.path.join(dir_path, f\"umapperns_kNN_seed_{seed}.pkl\"), \"rb\") as file:\n",
    "        umapperns_kNN = pickle.load(file)\n",
    "        embd_kNN = umapperns_kNN.embedding_\n",
    "except FileNotFoundError:\n",
    "    assert \"umapperns_after\" in locals()\n",
    "    shared_kNN = umapperns_after.graph_.copy()\n",
    "    shared_kNN.data = np.ones_like(shared_kNN.data)\n",
    "    umapperns_kNN = umap.UMAP(metric=\"cosine\",\n",
    "                                graph=shared_kNN,\n",
    "                                n_neighbors=30,\n",
    "                                n_epochs=750,\n",
    "                                random_state=seed,\n",
    "                                verbose=True)\n",
    "    embd_kNN = umapperns_kNN.fit_transform(pca100)\n",
    "    with open(os.path.join(dir_path, f\"umapperns_kNN_seed_{seed}.pkl\"), \"wb\") as file:\n",
    "        pickle.dump(umapperns_kNN, file, pickle.HIGHEST_PROTOCOL)\n"
   ],
   "metadata": {
    "collapsed": false,
    "pycharm": {
     "name": "#%%\n"
    }
   }
  },
  {
   "cell_type": "code",
   "execution_count": null,
   "outputs": [],
   "source": [
    "plt.figure(figsize=(8,8))\n",
    "scatter = plt.scatter(embd_kNN[special_order][:,1],\n",
    "                      embd_kNN[special_order][:, 0],\n",
    "                      c=labels[special_order],\n",
    "                      s=1.0,\n",
    "                      alpha=1.0,\n",
    "                      cmap=cmap)\n",
    "plt.axis(\"off\")\n",
    "plt.gca().set_aspect(\"equal\")\n",
    "\n",
    "plt.savefig(os.path.join(fig_path, f\"c_elegans_kNN_seed_{seed}.png\"),\n",
    "            bbox_inches = 'tight',\n",
    "            pad_inches = 0,dpi=300)"
   ],
   "metadata": {
    "collapsed": false,
    "pycharm": {
     "name": "#%%\n"
    }
   }
  },
  {
   "cell_type": "markdown",
   "source": [
    "### Random permutation of positive high-dimensional similarities"
   ],
   "metadata": {
    "collapsed": false,
    "pycharm": {
     "name": "#%% md\n"
    }
   }
  },
  {
   "cell_type": "code",
   "execution_count": null,
   "outputs": [],
   "source": [
    "try:\n",
    "    with open(os.path.join(dir_path, f\"umapperns_perm_seed_{seed}.pkl\"), \"rb\") as file:\n",
    "        umapperns_perm = pickle.load(file)\n",
    "        embd_perm = umapperns_perm.embedding_\n",
    "except FileNotFoundError:\n",
    "    assert \"umapperns_after\" in locals()\n",
    "    perm_graph = umapperns_after.graph_.copy()\n",
    "    np.random.seed(seed)\n",
    "    np.random.shuffle(perm_graph.data)\n",
    "    umapperns_perm = umap.UMAP(metric=\"cosine\",\n",
    "                                 graph=perm_graph,\n",
    "                                 n_neighbors=30,\n",
    "                                 n_epochs=750,\n",
    "                                 random_state=seed,\n",
    "                                 verbose=True)\n",
    "    embd_perm = umapperns_perm.fit_transform(pca100)\n",
    "    with open(os.path.join(dir_path, f\"umapperns_perm_seed_{seed}.pkl\"), \"wb\") as file:\n",
    "        pickle.dump(umapperns_perm, file, pickle.HIGHEST_PROTOCOL)\n"
   ],
   "metadata": {
    "collapsed": false,
    "pycharm": {
     "name": "#%%\n"
    }
   }
  },
  {
   "cell_type": "code",
   "execution_count": null,
   "outputs": [],
   "source": [
    "plt.figure(figsize=(8,8))\n",
    "scatter = plt.scatter(*embd_perm[special_order].T,\n",
    "                      c=labels[special_order],\n",
    "                      s=1.0,\n",
    "                      alpha=1.0,\n",
    "                      cmap=cmap)\n",
    "plt.axis(\"off\")\n",
    "plt.gca().set_aspect(\"equal\")\n",
    "plt.savefig(os.path.join(fig_path, f\"c_elegans_perm_seed_{seed}.png\"),\n",
    "            bbox_inches = 'tight',\n",
    "            pad_inches = 0,dpi=300)\n"
   ],
   "metadata": {
    "collapsed": false,
    "pycharm": {
     "name": "#%%\n"
    }
   }
  },
  {
   "cell_type": "markdown",
   "source": [
    "### Uniformly random positive high-dimensional similarities"
   ],
   "metadata": {
    "collapsed": false,
    "pycharm": {
     "name": "#%% md\n"
    }
   }
  },
  {
   "cell_type": "code",
   "execution_count": null,
   "outputs": [],
   "source": [
    "try:\n",
    "    with open(os.path.join(dir_path, f\"umapperns_uni_seed_{seed}.pkl\"), \"rb\") as file:\n",
    "        umapperns_uni = pickle.load(file)\n",
    "        embd_uni = umapperns_uni.embedding_\n",
    "except FileNotFoundError:\n",
    "    assert \"umapperns_after\" in locals()\n",
    "    uni_graph = umapperns_after.graph_.copy()\n",
    "    np.random.seed(seed)\n",
    "    uni_graph.data = np.random.uniform(0, 1, size=uni_graph.data.shape)\n",
    "    umapperns_uni = umap.UMAP(metric=\"cosine\",\n",
    "                                graph=uni_graph,\n",
    "                                n_neighbors=30,\n",
    "                                n_epochs=750,\n",
    "                                random_state=seed,\n",
    "                                verbose=True)\n",
    "    embd_uni = umapperns_uni.fit_transform(pca100)\n",
    "    with open(os.path.join(dir_path, f\"umapperns_uni_seed_{seed}.pkl\"), \"wb\") as file:\n",
    "        pickle.dump(umapperns_uni, file, pickle.HIGHEST_PROTOCOL)\n"
   ],
   "metadata": {
    "collapsed": false,
    "pycharm": {
     "name": "#%%\n"
    }
   }
  },
  {
   "cell_type": "code",
   "execution_count": null,
   "outputs": [],
   "source": [
    "plt.figure(figsize=(8,8))\n",
    "scatter = plt.scatter(-embd_uni[special_order][:, 0],\n",
    "                      -embd_uni[special_order][:,1],\n",
    "                      c=labels[special_order],\n",
    "                      s=1.0,\n",
    "                      alpha=1.0,\n",
    "                      cmap=cmap)\n",
    "plt.axis(\"off\")\n",
    "plt.gca().set_aspect(\"equal\")\n",
    "plt.savefig(os.path.join(fig_path, f\"c_elegans_uni_seed_{seed}.png\"),\n",
    "            bbox_inches = 'tight',\n",
    "            pad_inches = 0,dpi=300)\n"
   ],
   "metadata": {
    "collapsed": false,
    "pycharm": {
     "name": "#%%\n"
    }
   }
  },
  {
   "cell_type": "markdown",
   "source": [
    "### Inverted positive high-dimensional similarities"
   ],
   "metadata": {
    "collapsed": false,
    "pycharm": {
     "name": "#%% md\n"
    }
   }
  },
  {
   "cell_type": "code",
   "execution_count": null,
   "outputs": [],
   "source": [
    "try:\n",
    "    with open(os.path.join(dir_path, f\"umapperns_inv_seed_{0}_old.pkl\"), \"rb\") as file:\n",
    "        umapperns_inv = pickle.load(file)\n",
    "        embd_inv = umapperns_inv.embedding_\n",
    "except FileNotFoundError:\n",
    "    assert \"umapperns_after\" in locals()\n",
    "    inv_graph = umapperns_after.graph_.copy()\n",
    "    inv_graph.data[inv_graph.data < inv_graph.data.max() / float(750)] = 0\n",
    "    inv_graph.eliminate_zeros()\n",
    "    inv_graph.data = inv_graph.data.min() / inv_graph.data\n",
    "    umapperns_inv = umap.UMAP(metric=\"cosine\",\n",
    "                                graph=inv_graph,\n",
    "                                n_neighbors=30,\n",
    "                                n_epochs=750,\n",
    "                                random_state=seed,\n",
    "                                verbose=True)\n",
    "    embd_inv = umapperns_inv.fit_transform(pca100)\n",
    "    with open(os.path.join(dir_path, f\"umapperns_inv_seed_{seed}.pkl\"), \"wb\") as file:\n",
    "        pickle.dump(umapperns_inv, file, pickle.HIGHEST_PROTOCOL)\n"
   ],
   "metadata": {
    "collapsed": false,
    "pycharm": {
     "name": "#%%\n"
    }
   }
  },
  {
   "cell_type": "code",
   "execution_count": null,
   "outputs": [],
   "source": [
    "plt.figure(figsize=(8,8))\n",
    "scatter = plt.scatter(-embd_inv[special_order][:, 1],\n",
    "                      embd_inv[special_order][:, 0],\n",
    "                      c=labels[special_order],\n",
    "                      s=1.0,\n",
    "                      alpha=1.0,\n",
    "                      cmap=cmap)\n",
    "plt.axis(\"off\")\n",
    "plt.gca().set_aspect(\"equal\")\n",
    "\n",
    "plt.arrow(x=5, y=-1.5, dx=0.5, dy=3.3, width=0.3, color=\"k\", zorder=5)\n",
    "plt.text(x=0, y=-3, s='seam cells', fontdict={\"size\":30})\n",
    "\n",
    "plt.savefig(os.path.join(fig_path, f\"c_elegans_inv_seed_{seed}.png\"),\n",
    "            bbox_inches = 'tight',\n",
    "            pad_inches = 0,\n",
    "            dpi=300)"
   ],
   "metadata": {
    "collapsed": false,
    "pycharm": {
     "name": "#%%\n"
    }
   }
  },
  {
   "cell_type": "markdown",
   "source": [
    "## Variants with pushing the tail of a negative sample"
   ],
   "metadata": {
    "collapsed": false,
    "pycharm": {
     "name": "#%% md\n"
    }
   }
  },
  {
   "cell_type": "markdown",
   "source": [
    "### Normal setting\n",
    "\n"
   ],
   "metadata": {
    "collapsed": false,
    "pycharm": {
     "name": "#%% md\n"
    }
   }
  },
  {
   "cell_type": "code",
   "execution_count": null,
   "outputs": [],
   "source": [
    "try:\n",
    "    with open(os.path.join(dir_path, f\"umapperns_push_tail_seed_{seed}.pkl\"), \"rb\") as file:\n",
    "        umapperns_push_tail = pickle.load(file)\n",
    "        embd_push_tail = umapperns_push_tail.embedding_\n",
    "except FileNotFoundError:\n",
    "    umapperns_push_tail = umap.UMAP(metric=\"cosine\",\n",
    "                                      n_neighbors=30,\n",
    "                                      n_epochs=750,\n",
    "                                      random_state=seed,\n",
    "                                      verbose=True,\n",
    "                                      push_tail=True)\n",
    "    embd_push_tail = umapperns_push_tail.fit_transform(pca100)\n",
    "    with open(os.path.join(dir_path, f\"umapperns_push_tail_seed_{seed}.pkl\"), \"wb\") as file:\n",
    "        pickle.dump(umapperns_push_tail, file, pickle.HIGHEST_PROTOCOL)\n"
   ],
   "metadata": {
    "collapsed": false,
    "pycharm": {
     "name": "#%%\n"
    }
   }
  },
  {
   "cell_type": "code",
   "execution_count": null,
   "outputs": [],
   "source": [
    "plt.figure(figsize=(8,8))\n",
    "scatter = plt.scatter(-embd_push_tail[special_order][: ,1],\n",
    "                      -embd_push_tail[special_order][:, 0],\n",
    "                      c=labels[special_order],\n",
    "                      s=1.0,\n",
    "                      alpha=1.0,\n",
    "                      cmap=cmap)\n",
    "plt.axis(\"off\")\n",
    "plt.gca().set_aspect(\"equal\")\n",
    "plt.savefig(os.path.join(fig_path, f\"c_elegans_push_tail_no_leg_seed_{seed}.png\"),\n",
    "            bbox_inches = 'tight',\n",
    "            pad_inches = 0,dpi=300)\n"
   ],
   "metadata": {
    "collapsed": false,
    "pycharm": {
     "name": "#%%\n"
    }
   }
  },
  {
   "cell_type": "markdown",
   "source": [
    "### Shared kNN graph as high-dimensional similarities"
   ],
   "metadata": {
    "collapsed": false,
    "pycharm": {
     "name": "#%% md\n"
    }
   }
  },
  {
   "cell_type": "code",
   "execution_count": null,
   "outputs": [],
   "source": [
    "try:\n",
    "    with open(os.path.join(dir_path, f\"umapperns_kNN_push_tail_seed_{seed}.pkl\"), \"rb\") as file:\n",
    "        umapperns_kNN_push_tail = pickle.load(file)\n",
    "        embd_kNN_push_tail = umapperns_kNN_push_tail.embedding_\n",
    "except FileNotFoundError:\n",
    "    assert \"umapperns_after\" in locals()\n",
    "    shared_kNN = umapperns_after.graph_.copy()\n",
    "    shared_kNN.data = np.ones_like(shared_kNN.data)\n",
    "    umapperns_kNN_push_tail = umap.UMAP(metric=\"cosine\",\n",
    "                                          graph=shared_kNN,\n",
    "                                          n_neighbors=30,\n",
    "                                          n_epochs=750,\n",
    "                                          push_tail=True,\n",
    "                                          random_state=seed,\n",
    "                                          verbose=True)\n",
    "    embd_kNN_push_tail = umapperns_kNN_push_tail.fit_transform(pca100)\n",
    "    with open(os.path.join(dir_path, f\"umapperns_kNN_push_tail_seed_{seed}.pkl\"), \"wb\") as file:\n",
    "        pickle.dump(umapperns_kNN_push_tail, file, pickle.HIGHEST_PROTOCOL)"
   ],
   "metadata": {
    "collapsed": false,
    "pycharm": {
     "name": "#%%\n"
    }
   }
  },
  {
   "cell_type": "code",
   "execution_count": null,
   "outputs": [],
   "source": [
    "plt.figure(figsize=(8,8))\n",
    "scatter = plt.scatter(embd_kNN_push_tail[special_order][:, 1],\n",
    "                      embd_kNN_push_tail[special_order][:, 0],\n",
    "                      c=labels[special_order],\n",
    "                      s=1.0,\n",
    "                      alpha=1.0,\n",
    "                      cmap=cmap)\n",
    "plt.axis(\"off\")\n",
    "plt.gca().set_aspect(\"equal\")\n",
    "plt.savefig(os.path.join(fig_path, f\"c_elegans_kNN_push_tail_no_leg_seed_{seed}.png\"),\n",
    "            bbox_inches = 'tight',\n",
    "            pad_inches = 0,dpi=300)"
   ],
   "metadata": {
    "collapsed": false,
    "pycharm": {
     "name": "#%%\n"
    }
   }
  },
  {
   "cell_type": "markdown",
   "source": [
    "### Random permutation of positive high-dimensional similarities"
   ],
   "metadata": {
    "collapsed": false,
    "pycharm": {
     "name": "#%% md\n"
    }
   }
  },
  {
   "cell_type": "code",
   "execution_count": null,
   "outputs": [],
   "source": [
    "try:\n",
    "    with open(os.path.join(dir_path, f\"umapperns_perm_push_tail_seed_{seed}.pkl\"), \"rb\") as file:\n",
    "        umapperns_perm_push_tail = pickle.load(file)\n",
    "        embd_perm_push_tail = umapperns_perm_push_tail.embedding_\n",
    "except FileNotFoundError:\n",
    "    assert \"umapperns_after\" in locals()\n",
    "    perm_graph = umapperns_after.graph_.copy()\n",
    "    np.random.seed(seed)\n",
    "    np.random.shuffle(perm_graph.data)\n",
    "    umapperns_perm_push_tail = umap.UMAP(metric=\"cosine\",\n",
    "                                           graph=perm_graph,\n",
    "                                           n_neighbors=30,\n",
    "                                           n_epochs=750,\n",
    "                                           push_tail=True,\n",
    "                                           random_state=seed,\n",
    "                                           verbose=True)\n",
    "    embd_perm_push_tail = umapperns_perm_push_tail.fit_transform(pca100)\n",
    "    with open(os.path.join(dir_path, f\"umapperns_perm_push_tail_seed_{seed}.pkl\"), \"wb\") as file:\n",
    "        pickle.dump(umapperns_perm_push_tail, file, pickle.HIGHEST_PROTOCOL)"
   ],
   "metadata": {
    "collapsed": false,
    "pycharm": {
     "name": "#%%\n"
    }
   }
  },
  {
   "cell_type": "code",
   "execution_count": null,
   "outputs": [],
   "source": [
    "plt.figure(figsize=(8,8))\n",
    "scatter = plt.scatter(embd_perm_push_tail[special_order][:, 0],\n",
    "                      -embd_perm_push_tail[special_order][:, 1],\n",
    "                      c=labels[special_order],\n",
    "                      s=1.0,\n",
    "                      alpha=1.0,\n",
    "                      cmap=cmap)\n",
    "plt.axis(\"off\")\n",
    "plt.gca().set_aspect(\"equal\")\n",
    "plt.savefig(os.path.join(fig_path, f\"c_elegans_perm_push_tail_no_leg_seed_{seed}.png\"),\n",
    "            bbox_inches = 'tight',\n",
    "            pad_inches = 0,dpi=300)"
   ],
   "metadata": {
    "collapsed": false,
    "pycharm": {
     "name": "#%%\n"
    }
   }
  },
  {
   "cell_type": "markdown",
   "source": [
    "### Uniformly random positive high-dimensional similarities"
   ],
   "metadata": {
    "collapsed": false,
    "pycharm": {
     "name": "#%% md\n"
    }
   }
  },
  {
   "cell_type": "code",
   "execution_count": null,
   "outputs": [],
   "source": [
    "try:\n",
    "    with open(os.path.join(dir_path, f\"umapperns_uni_push_tail_seed_{seed}.pkl\"), \"rb\") as file:\n",
    "        umapperns_uni_push_tail = pickle.load(file)\n",
    "        embd_uni_push_tail = umapperns_uni_push_tail.embedding_\n",
    "except FileNotFoundError:\n",
    "    assert \"umapperns_after\" in locals()\n",
    "    uni_graph = umapperns_after.graph_.copy()\n",
    "    np.random.seed(seed)\n",
    "    uni_graph.data = np.random.uniform(0, 1, size=uni_graph.data.shape)\n",
    "    umapperns_uni_push_tail = umap.UMAP(metric=\"cosine\",\n",
    "                                          graph=uni_graph,\n",
    "                                          n_neighbors=30,\n",
    "                                          n_epochs=750,\n",
    "                                          push_tail=True,\n",
    "                                          random_state=seed,\n",
    "                                          verbose=True)\n",
    "    embd_uni_push_tail = umapperns_uni_push_tail.fit_transform(pca100)\n",
    "    with open(os.path.join(dir_path, f\"umapperns_uni_push_tail_seed_{seed}.pkl\"), \"wb\") as file:\n",
    "        pickle.dump(umapperns_uni_push_tail, file, pickle.HIGHEST_PROTOCOL)"
   ],
   "metadata": {
    "collapsed": false,
    "pycharm": {
     "name": "#%%\n"
    }
   }
  },
  {
   "cell_type": "code",
   "execution_count": null,
   "outputs": [],
   "source": [
    "# labels 5, 14,21,23,28 have crips shape, but not in PCA\n",
    "plt.figure(figsize=(8,8))\n",
    "scatter = plt.scatter(embd_uni_push_tail[special_order][:, 0],\n",
    "                      -embd_uni_push_tail[special_order][:, 1],\n",
    "                      c=labels[special_order],\n",
    "                      s=1.0,\n",
    "                      alpha=1.0,\n",
    "                      cmap=cmap)\n",
    "plt.axis(\"off\")\n",
    "plt.gca().set_aspect(\"equal\")\n",
    "plt.savefig(os.path.join(fig_path, f\"c_elegans_uni_push_tail_no_leg_seed_{seed}.png\"),\n",
    "            bbox_inches = 'tight',\n",
    "            pad_inches = 0,dpi=300)"
   ],
   "metadata": {
    "collapsed": false,
    "pycharm": {
     "name": "#%%\n"
    }
   }
  },
  {
   "cell_type": "markdown",
   "source": [
    "### Inverted positive high-dimensional similarities"
   ],
   "metadata": {
    "collapsed": false,
    "pycharm": {
     "name": "#%% md\n"
    }
   }
  },
  {
   "cell_type": "code",
   "execution_count": null,
   "outputs": [],
   "source": [
    "try:\n",
    "    with open(os.path.join(dir_path, f\"umapperns_inv_push_tail_seed_{seed}.pkl\"), \"rb\") as file:\n",
    "        umapperns_inv_push_tail = pickle.load(file)\n",
    "        embd_inv_push_tail = umapperns_inv_push_tail.embedding_\n",
    "except FileNotFoundError:\n",
    "    assert \"umapperns_after\" in locals()\n",
    "    inv_graph = umapperns_after.graph_.copy()\n",
    "    inv_graph.data[inv_graph.data < inv_graph.data.max() / float(750)] = 0\n",
    "    inv_graph.eliminate_zeros()\n",
    "    inv_graph.data = inv_graph.data.min() / inv_graph.data\n",
    "    umapperns_inv_push_tail = umap.UMAP(metric=\"cosine\",\n",
    "                                          graph=inv_graph,\n",
    "                                          n_neighbors=30,\n",
    "                                          n_epochs=750,\n",
    "                                          push_tail=True,\n",
    "                                          random_state=seed,\n",
    "                                          verbose=True)\n",
    "    embd_inv_push_tail = umapperns_inv_push_tail.fit_transform(pca100)\n",
    "    with open(os.path.join(dir_path, f\"umapperns_inv_push_tail_seed_{seed}.pkl\"), \"wb\") as file:\n",
    "        pickle.dump(umapperns_inv_push_tail, file, pickle.HIGHEST_PROTOCOL)"
   ],
   "metadata": {
    "collapsed": false,
    "pycharm": {
     "name": "#%%\n"
    }
   }
  },
  {
   "cell_type": "code",
   "execution_count": null,
   "outputs": [],
   "source": [
    "plt.figure(figsize=(8,8))\n",
    "scatter = plt.scatter(-embd_inv_push_tail[special_order][:, 1],\n",
    "                      embd_inv_push_tail[special_order][:, 0],\n",
    "                      c=labels[special_order],\n",
    "                      s=1.0,\n",
    "                      alpha=1.0,\n",
    "                      cmap=cmap)\n",
    "plt.axis(\"off\")\n",
    "plt.gca().set_aspect(\"equal\")\n",
    "plt.savefig(os.path.join(fig_path, f\"c_elegans_inv_push_tail_no_leg_seed_{seed}.png\"),\n",
    "            bbox_inches = 'tight',\n",
    "            pad_inches = 0,dpi=300)\n"
   ],
   "metadata": {
    "collapsed": false,
    "pycharm": {
     "name": "#%%\n"
    }
   }
  }
 ],
 "metadata": {
  "kernelspec": {
   "name": "conda-env-umap-negs-py",
   "language": "python",
   "display_name": "Python [conda env:umap-negs]"
  },
  "language_info": {
   "codemirror_mode": {
    "name": "ipython",
    "version": 2
   },
   "file_extension": ".py",
   "mimetype": "text/x-python",
   "name": "python",
   "nbconvert_exporter": "python",
   "pygments_lexer": "ipython2",
   "version": "2.7.6"
  }
 },
 "nbformat": 4,
 "nbformat_minor": 0
}